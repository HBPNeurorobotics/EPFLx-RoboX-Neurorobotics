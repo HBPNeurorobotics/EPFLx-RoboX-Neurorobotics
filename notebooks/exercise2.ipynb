{
 "cells": [
  {
   "cell_type": "markdown",
   "metadata": {},
   "source": [
    "# Exercise 2: Transform the recorded robot positions into a Self Organizing Map (SOM)"
   ]
  },
  {
   "cell_type": "markdown",
   "metadata": {},
   "source": [
    "The goal of this exercise is to generate a Self Organizing Map based on the recorded robot positions of Exercise 1.\n",
    "If you didn't complete Exercise 1, clone and launch the experiment *Exercise 2: Transform robot positions ... (SOM)* of the [Neurorobotics platform](http://148.187.97.48/#/esv-private) to generate the file *robot_positions.csv* \n",
    "\n",
    "**Note: Exercise 2's experiment contains the solution of Exercise 1.**"
   ]
  },
  {
   "cell_type": "markdown",
   "metadata": {},
   "source": [
    "## A. Complete the SOM implementation\n",
    "---------------------------------------------------"
   ]
  },
  {
   "cell_type": "markdown",
   "metadata": {},
   "source": [
    "In this section, you will complete the inplementation of the SOM algorithm."
   ]
  },
  {
   "cell_type": "markdown",
   "metadata": {},
   "source": [
    "Your script will be saved to the file *SOM_<Surname>_<Name>.py* for its submition via the command: \n",
    "    %%writefile SOM_Surname_Name.py\n",
    "    \n",
    "Please, put your Surname and Name as the name of file to ensure autorecognition of your personality\n",
    "Once you are ready to submit your SOM implementation, you need to uncomment the first line so as to create your file in the jupyter notebook environment.\n",
    "\n",
    "Remarks:\n",
    "1) The map size shouldn't exceed 10x10. It's not reasonable to use very huge map for our simple environment.\n",
    "2) The theory says the 1 minute of simulation is totally enough for SOM training in our experiment."
   ]
  },
  {
   "cell_type": "markdown",
   "metadata": {},
   "source": [
    "Your script will be saved to the file *SOM_<Surname>_<Name>.py* for its submition via the command: \n",
    "    %%writefile SOM_Surname_Name.py\n",
    "    \n",
    "Please, put your Surname and Name as the name of file to ensure autorecognition of your personality\n",
    "Once you are ready to submit your SOM implementation, you need to uncomment the first line so as to create your file in the jupyter notebook environment.\n",
    "\n",
    "Remarks:\n",
    "- 1) The map size shouldn't exceed 10x10. It's not reasonable to use very huge map for our simple environment.\n",
    "- 2) The theory says the 1 minute of simulation is totally enough for SOM training in our experiment."
   ]
  },
  {
   "cell_type": "code",
   "execution_count": 4,
   "metadata": {},
   "outputs": [
    {
     "name": "stdout",
     "output_type": "stream",
     "text": [
      "Collecting epflx_robox_nrp_utils from git+https://github.com/HBPNeurorobotics/EPFLx-RoboX-Neurorobotics-utils#egg=epflx_robox_nrp_utils\n",
      "  Cloning https://github.com/HBPNeurorobotics/EPFLx-RoboX-Neurorobotics-utils to /tmp/pip-install-3aQtAO/epflx-robox-nrp-utils\n",
      "Collecting IPython (from epflx_robox_nrp_utils)\n",
      "  Using cached https://files.pythonhosted.org/packages/b0/88/d996ab8be22cea1eaa18baee3678a11265e18cf09974728d683c51102148/ipython-5.8.0-py2-none-any.whl\n",
      "Collecting matplotlib (from epflx_robox_nrp_utils)\n",
      "  Using cached https://files.pythonhosted.org/packages/59/08/04933377dc4500e3698e93f9113dc3624874e0914f4c85767ecb5b389084/matplotlib-2.2.3-cp27-cp27mu-manylinux1_x86_64.whl\n",
      "Collecting numpy (from epflx_robox_nrp_utils)\n",
      "  Using cached https://files.pythonhosted.org/packages/c4/33/8ec8dcdb4ede5d453047bbdbd01916dbaccdb63e98bba60989718f5f0876/numpy-1.16.2-cp27-cp27mu-manylinux1_x86_64.whl\n",
      "Collecting six (from epflx_robox_nrp_utils)\n",
      "  Using cached https://files.pythonhosted.org/packages/73/fb/00a976f728d0d1fecfe898238ce23f502a721c0ac0ecfedb80e0d88c64e9/six-1.12.0-py2.py3-none-any.whl\n",
      "Collecting pandas (from epflx_robox_nrp_utils)\n",
      "  Using cached https://files.pythonhosted.org/packages/c5/88/b8659eecde0350d37d5b47c1c2a88f39e6153e5809bcfc48bb7fde6f231b/pandas-0.24.1-cp27-cp27mu-manylinux1_x86_64.whl\n",
      "Collecting wheel (from epflx_robox_nrp_utils)\n",
      "  Using cached https://files.pythonhosted.org/packages/96/ba/a4702cbb6a3a485239fbe9525443446203f00771af9ac000fa3ef2788201/wheel-0.33.1-py2.py3-none-any.whl\n",
      "Collecting prompt-toolkit<2.0.0,>=1.0.4 (from IPython->epflx_robox_nrp_utils)\n",
      "  Using cached https://files.pythonhosted.org/packages/d1/b0/1a6c262da35c779dd79550137aa7c298a424987240a28792ec5ccf48f848/prompt_toolkit-1.0.15-py2-none-any.whl\n",
      "Collecting decorator (from IPython->epflx_robox_nrp_utils)\n",
      "  Using cached https://files.pythonhosted.org/packages/f1/cd/7c8240007e9716b14679bc217a1baefa4432aa30394f7e2ec40a52b1a708/decorator-4.3.2-py2.py3-none-any.whl\n",
      "Collecting pexpect; sys_platform != \"win32\" (from IPython->epflx_robox_nrp_utils)\n",
      "  Using cached https://files.pythonhosted.org/packages/89/e6/b5a1de8b0cc4e07ca1b305a4fcc3f9806025c1b651ea302646341222f88b/pexpect-4.6.0-py2.py3-none-any.whl\n",
      "Collecting backports.shutil-get-terminal-size; python_version == \"2.7\" (from IPython->epflx_robox_nrp_utils)\n",
      "  Using cached https://files.pythonhosted.org/packages/7d/cd/1750d6c35fe86d35f8562091737907f234b78fdffab42b29c72b1dd861f4/backports.shutil_get_terminal_size-1.0.0-py2.py3-none-any.whl\n",
      "Collecting setuptools>=18.5 (from IPython->epflx_robox_nrp_utils)\n",
      "  Using cached https://files.pythonhosted.org/packages/d1/6a/4b2fcefd2ea0868810e92d519dacac1ddc64a2e53ba9e3422c3b62b378a6/setuptools-40.8.0-py2.py3-none-any.whl\n",
      "Collecting pygments (from IPython->epflx_robox_nrp_utils)\n",
      "  Using cached https://files.pythonhosted.org/packages/13/e5/6d710c9cf96c31ac82657bcfb441df328b22df8564d58d0c4cd62612674c/Pygments-2.3.1-py2.py3-none-any.whl\n",
      "Collecting pathlib2; python_version == \"2.7\" or python_version == \"3.3\" (from IPython->epflx_robox_nrp_utils)\n",
      "  Using cached https://files.pythonhosted.org/packages/2a/46/c696dcf1c7aad917b39b875acdc5451975e3a9b4890dca8329983201c97a/pathlib2-2.3.3-py2.py3-none-any.whl\n",
      "Collecting traitlets>=4.2 (from IPython->epflx_robox_nrp_utils)\n",
      "  Using cached https://files.pythonhosted.org/packages/93/d6/abcb22de61d78e2fc3959c964628a5771e47e7cc60d53e9342e21ed6cc9a/traitlets-4.3.2-py2.py3-none-any.whl\n",
      "Collecting simplegeneric>0.8 (from IPython->epflx_robox_nrp_utils)\n",
      "Collecting pickleshare (from IPython->epflx_robox_nrp_utils)\n",
      "  Using cached https://files.pythonhosted.org/packages/9a/41/220f49aaea88bc6fa6cba8d05ecf24676326156c23b991e80b3f2fc24c77/pickleshare-0.7.5-py2.py3-none-any.whl\n",
      "Collecting pyparsing!=2.0.4,!=2.1.2,!=2.1.6,>=2.0.1 (from matplotlib->epflx_robox_nrp_utils)\n",
      "  Using cached https://files.pythonhosted.org/packages/de/0a/001be530836743d8be6c2d85069f46fecf84ac6c18c7f5fb8125ee11d854/pyparsing-2.3.1-py2.py3-none-any.whl\n",
      "Collecting backports.functools-lru-cache (from matplotlib->epflx_robox_nrp_utils)\n",
      "  Using cached https://files.pythonhosted.org/packages/03/8e/2424c0e65c4a066e28f539364deee49b6451f8fcd4f718fefa50cc3dcf48/backports.functools_lru_cache-1.5-py2.py3-none-any.whl\n",
      "Collecting subprocess32 (from matplotlib->epflx_robox_nrp_utils)\n",
      "Collecting pytz (from matplotlib->epflx_robox_nrp_utils)\n",
      "  Using cached https://files.pythonhosted.org/packages/61/28/1d3920e4d1d50b19bc5d24398a7cd85cc7b9a75a490570d5a30c57622d34/pytz-2018.9-py2.py3-none-any.whl\n",
      "Collecting python-dateutil>=2.1 (from matplotlib->epflx_robox_nrp_utils)\n",
      "  Using cached https://files.pythonhosted.org/packages/41/17/c62faccbfbd163c7f57f3844689e3a78bae1f403648a6afb1d0866d87fbb/python_dateutil-2.8.0-py2.py3-none-any.whl\n",
      "Collecting kiwisolver>=1.0.1 (from matplotlib->epflx_robox_nrp_utils)\n",
      "  Using cached https://files.pythonhosted.org/packages/3a/62/a8c9bef3059d55ab38e41fe9cba4fad773bfc04e47290bab84db1c18262e/kiwisolver-1.0.1-cp27-cp27mu-manylinux1_x86_64.whl\n",
      "Collecting cycler>=0.10 (from matplotlib->epflx_robox_nrp_utils)\n",
      "  Using cached https://files.pythonhosted.org/packages/f7/d2/e07d3ebb2bd7af696440ce7e754c59dd546ffe1bbe732c8ab68b9c834e61/cycler-0.10.0-py2.py3-none-any.whl\n",
      "Collecting wcwidth (from prompt-toolkit<2.0.0,>=1.0.4->IPython->epflx_robox_nrp_utils)\n",
      "  Using cached https://files.pythonhosted.org/packages/7e/9f/526a6947247599b084ee5232e4f9190a38f398d7300d866af3ab571a5bfe/wcwidth-0.1.7-py2.py3-none-any.whl\n",
      "Collecting ptyprocess>=0.5 (from pexpect; sys_platform != \"win32\"->IPython->epflx_robox_nrp_utils)\n",
      "  Using cached https://files.pythonhosted.org/packages/d1/29/605c2cc68a9992d18dada28206eeada56ea4bd07a239669da41674648b6f/ptyprocess-0.6.0-py2.py3-none-any.whl\n",
      "Collecting scandir; python_version < \"3.5\" (from pathlib2; python_version == \"2.7\" or python_version == \"3.3\"->IPython->epflx_robox_nrp_utils)\n",
      "Collecting ipython-genutils (from traitlets>=4.2->IPython->epflx_robox_nrp_utils)\n",
      "  Using cached https://files.pythonhosted.org/packages/fa/bc/9bd3b5c2b4774d5f33b2d544f1460be9df7df2fe42f352135381c347c69a/ipython_genutils-0.2.0-py2.py3-none-any.whl\n",
      "Collecting enum34; python_version == \"2.7\" (from traitlets>=4.2->IPython->epflx_robox_nrp_utils)\n",
      "  Using cached https://files.pythonhosted.org/packages/c5/db/e56e6b4bbac7c4a06de1c50de6fe1ef3810018ae11732a50f15f62c7d050/enum34-1.1.6-py2-none-any.whl\n",
      "Building wheels for collected packages: epflx-robox-nrp-utils\n",
      "  Running setup.py bdist_wheel for epflx-robox-nrp-utils ... \u001b[?25ldone\n",
      "\u001b[?25h  Stored in directory: /tmp/pip-ephem-wheel-cache-iz3V3U/wheels/4c/a3/66/4b632b31d15d23626b01540839a23612bbc4a5ffe8dabc6f5d\n",
      "Successfully built epflx-robox-nrp-utils\n",
      "\u001b[31mlaunchpadlib 1.10.3 requires testresources, which is not installed.\u001b[0m\n",
      "\u001b[31mhbp-nrp-cleserver 2.1.1 has requirement Jinja2==2.7.1, but you'll have jinja2 2.10 which is incompatible.\u001b[0m\n",
      "\u001b[31mhbp-nrp-cle 2.1.1 has requirement futures==3.0.3, but you'll have futures 3.2.0 which is incompatible.\u001b[0m\n",
      "\u001b[31mhbp-nrp-cle 2.1.1 has requirement matplotlib==1.5.1, but you'll have matplotlib 2.2.3 which is incompatible.\u001b[0m\n",
      "\u001b[31mhbp-nrp-cle 2.1.1 has requirement numpy==1.11.0, but you'll have numpy 1.16.2 which is incompatible.\u001b[0m\n",
      "\u001b[31mhbp-nrp-cle 2.1.1 has requirement pexpect==3.1, but you'll have pexpect 4.6.0 which is incompatible.\u001b[0m\n",
      "\u001b[31mhbp-nrp-cle 2.1.1 has requirement PyYAML==3.11, but you'll have pyyaml 3.13 which is incompatible.\u001b[0m\n",
      "\u001b[31mhbp-nrp-commons 2.1.1 has requirement pexpect==3.1, but you'll have pexpect 4.6.0 which is incompatible.\u001b[0m\n",
      "\u001b[31mhbp-nrp-commons 2.1.1 has requirement PyYAML==3.11, but you'll have pyyaml 3.13 which is incompatible.\u001b[0m\n",
      "\u001b[31mhbp-nrp-excontrol 2.1.1 has requirement numpy==1.11.0, but you'll have numpy 1.16.2 which is incompatible.\u001b[0m\n",
      "\u001b[31mhbp-nrp-excontrol 2.1.1 has requirement PyYAML==3.11, but you'll have pyyaml 3.13 which is incompatible.\u001b[0m\n",
      "\u001b[31mhbp-nrp-excontrol 2.1.1 has requirement tf==1.0.0, but you'll have tf 1.11.9 which is incompatible.\u001b[0m\n",
      "\u001b[31msphinxcontrib-httpdomain 1.7.0 has requirement Sphinx>=1.5, but you'll have sphinx 1.1.3 which is incompatible.\u001b[0m\n",
      "\u001b[31mhbp-nrp-backend 2.1.1 has requirement cryptography==1.9, but you'll have cryptography 2.3.1 which is incompatible.\u001b[0m\n",
      "\u001b[31mhbp-nrp-backend 2.1.1 has requirement PyYAML==3.11, but you'll have pyyaml 3.13 which is incompatible.\u001b[0m\n",
      "\u001b[31mhbp-nrp-backend 2.1.1 has requirement urllib3[secure]==1.21.1, but you'll have urllib3 1.23 which is incompatible.\u001b[0m\n",
      "\u001b[31mrosdep 0.15.1 has requirement catkin_pkg>=0.4.0, but you'll have catkin-pkg 0.2.10 which is incompatible.\u001b[0m\n",
      "\u001b[31mhbp-nrp-watchdog 2.1.1 has requirement PyYAML==3.11, but you'll have pyyaml 3.13 which is incompatible.\u001b[0m\n",
      "\u001b[31mbbp-client 0.4.4 has requirement PyYAML==3.10, but you'll have pyyaml 3.13 which is incompatible.\u001b[0m\n",
      "\u001b[31mhbp-nrp-virtual-coach 2.1.1 has requirement pandas==0.22.0, but you'll have pandas 0.24.1 which is incompatible.\u001b[0m\n",
      "Installing collected packages: wcwidth, six, prompt-toolkit, decorator, ptyprocess, pexpect, backports.shutil-get-terminal-size, setuptools, pygments, scandir, pathlib2, ipython-genutils, enum34, traitlets, simplegeneric, pickleshare, IPython, pyparsing, backports.functools-lru-cache, subprocess32, pytz, python-dateutil, kiwisolver, cycler, numpy, matplotlib, pandas, wheel, epflx-robox-nrp-utils\n",
      "  Found existing installation: six 1.12.0\n",
      "    Uninstalling six-1.12.0:\n",
      "      Successfully uninstalled six-1.12.0\n"
     ]
    },
    {
     "name": "stdout",
     "output_type": "stream",
     "text": [
      "  Found existing installation: decorator 4.3.2\n",
      "    Uninstalling decorator-4.3.2:\n",
      "      Successfully uninstalled decorator-4.3.2\n",
      "  Found existing installation: ptyprocess 0.6.0\n",
      "    Uninstalling ptyprocess-0.6.0:\n",
      "      Successfully uninstalled ptyprocess-0.6.0\n",
      "  Found existing installation: pexpect 4.6.0\n",
      "    Uninstalling pexpect-4.6.0:\n",
      "      Successfully uninstalled pexpect-4.6.0\n",
      "  Found existing installation: setuptools 40.8.0\n",
      "    Uninstalling setuptools-40.8.0:\n",
      "      Successfully uninstalled setuptools-40.8.0\n",
      "  Found existing installation: Pygments 2.3.1\n",
      "    Uninstalling Pygments-2.3.1:\n",
      "      Successfully uninstalled Pygments-2.3.1\n",
      "  Found existing installation: ipython-genutils 0.2.0\n",
      "    Uninstalling ipython-genutils-0.2.0:\n",
      "      Successfully uninstalled ipython-genutils-0.2.0\n",
      "  Found existing installation: enum34 1.1.6\n",
      "    Uninstalling enum34-1.1.6:\n",
      "      Successfully uninstalled enum34-1.1.6\n",
      "  Found existing installation: simplegeneric 0.8.1\n",
      "    Uninstalling simplegeneric-0.8.1:\n",
      "      Successfully uninstalled simplegeneric-0.8.1\n",
      "  Found existing installation: subprocess32 3.5.3\n",
      "    Uninstalling subprocess32-3.5.3:\n",
      "      Successfully uninstalled subprocess32-3.5.3\n",
      "  Found existing installation: pytz 2018.9\n",
      "    Uninstalling pytz-2018.9:\n",
      "      Successfully uninstalled pytz-2018.9\n",
      "  Found existing installation: python-dateutil 2.8.0\n",
      "    Uninstalling python-dateutil-2.8.0:\n",
      "      Successfully uninstalled python-dateutil-2.8.0\n",
      "  Found existing installation: kiwisolver 1.0.1\n",
      "    Uninstalling kiwisolver-1.0.1:\n",
      "      Successfully uninstalled kiwisolver-1.0.1\n",
      "  Found existing installation: cycler 0.10.0\n",
      "    Uninstalling cycler-0.10.0:\n",
      "      Successfully uninstalled cycler-0.10.0\n",
      "  Found existing installation: numpy 1.16.2\n",
      "    Uninstalling numpy-1.16.2:\n",
      "      Successfully uninstalled numpy-1.16.2\n",
      "  Found existing installation: matplotlib 2.2.3\n",
      "    Uninstalling matplotlib-2.2.3:\n",
      "      Successfully uninstalled matplotlib-2.2.3\n",
      "  Found existing installation: pandas 0.24.1\n",
      "    Uninstalling pandas-0.24.1:\n",
      "      Successfully uninstalled pandas-0.24.1\n",
      "  Found existing installation: wheel 0.33.1\n",
      "    Uninstalling wheel-0.33.1:\n",
      "      Successfully uninstalled wheel-0.33.1\n",
      "  Found existing installation: epflx-robox-nrp-utils 0.0.1\n",
      "    Uninstalling epflx-robox-nrp-utils-0.0.1:\n",
      "      Successfully uninstalled epflx-robox-nrp-utils-0.0.1\n",
      "Successfully installed IPython-5.8.0 backports.functools-lru-cache-1.5 backports.shutil-get-terminal-size-1.0.0 cycler-0.10.0 decorator-4.3.2 enum34-1.1.6 epflx-robox-nrp-utils-0.0.1 ipython-genutils-0.2.0 kiwisolver-1.0.1 matplotlib-2.2.3 numpy-1.16.2 pandas-0.24.1 pathlib2-2.3.3 pexpect-4.6.0 pickleshare-0.7.5 prompt-toolkit-1.0.15 ptyprocess-0.6.0 pygments-2.3.1 pyparsing-2.3.1 python-dateutil-2.8.0 pytz-2018.9 scandir-1.9.0 setuptools-40.8.0 simplegeneric-0.8.1 six-1.12.0 subprocess32-3.5.3 traitlets-4.3.2 wcwidth-0.1.7 wheel-0.33.1\n"
     ]
    }
   ],
   "source": [
    "# Install SOM and SARSA utils\n",
    "! pip install --user --force-reinstall git+https://github.com/HBPNeurorobotics/EPFLx-RoboX-Neurorobotics-utils#egg=epflx_robox_nrp_utils"
   ]
  },
  {
   "cell_type": "code",
   "execution_count": 7,
   "metadata": {},
   "outputs": [],
   "source": [
    "#%%writefile SOM_Surname_Name.py \n",
    "# class SOM (SOM_solution)\n",
    "\n",
    "import numpy as np\n",
    "import random\n",
    "\n",
    "from IPython import display\n",
    "\n",
    "\n",
    "\n",
    "class SOM():\n",
    "\n",
    "\t# Self-Organizing Map mapping the environment depending on the positions visited by the robot\n",
    "    \n",
    "\tdef __init__(self, video=0, csv_file='robot_positions.csv'):\n",
    "\t\t# Inputs:\n",
    "\t\t#\t Nn: size of the 2D lattice (Nn*Nn)\n",
    "\t\t#\t eta: learning rate\n",
    "\t\t#\t sigma_0: initial width of the neighborhood function\n",
    "\t\t#\t tau_sigma: mean life time of width (decaying exponential)\n",
    "\t\t#\t sigma_min: width minimum value\n",
    "\n",
    "\n",
    "\t\t''' TO DO: set parameters of SOM training '''\n",
    "\t\tself.Nn = 12\n",
    "\t\tself.eta_0 = 1.0\n",
    "\t\tself.sigma_0 = 3.0\n",
    "        \n",
    "\t\tself.eta_min = 0.001\n",
    "\t\tself.sigma_min = 0.0\n",
    "        \n",
    "\t\tself.tau = 100.0\n",
    "\t\t''' --------------- TO DO --------------- '''\n",
    "    \n",
    "\n",
    "\t\tself.pos = {}\n",
    "\t\tself.mix = {}\n",
    "\t\tself.trial = 0 # number of updates (eta and sigma can depend on the number of updates)\n",
    "\t\tself.video = video\n",
    "\t\tself.csv_file = csv_file\n",
    "        \n",
    "\t\t# Lattice of neurons (SOM) of size [Nn,Nn]. The third dimension allows to store x and y coordinates.\n",
    "\t\t# The values are randomly initialized\n",
    "\t\tself.lattice = np.random.uniform(0.,1.0,(self.Nn,self.Nn,2))\n",
    "        \n",
    "\n",
    "    \n",
    "    \n",
    "\t### Run simulation (main function) ###\n",
    "        \n",
    "\tdef run_som(self):\n",
    "\t\t'''----- Additional functions: upload, visualize, save ----- '''\n",
    "\t\tfrom epflx_robox_nrp_utils.SOM.SOM_additional import SOM_additional\n",
    "\t\tsomad = SOM_additional() \n",
    "\t\t'''--------------------------------------------------------- '''\n",
    "        \n",
    "\t\tself.pos = somad.load_data(self.csv_file)\n",
    "\t\twhile(self.trial < self.tau):\n",
    "\t\t\tself.run_trial()\n",
    "\t\t\tsomad.save_lattice(self.lattice)\n",
    "\t\t\tif(self.video): somad.visualization(self.lattice,self.Nn,self.eta(),self.sigma(),self.trial)\n",
    "\t\t\tself.trial += 1\n",
    "\t\tdisplay.clear_output(wait=True)\n",
    "\n",
    "\n",
    "\n",
    "\t### SOM training stages ###\n",
    "\n",
    "\tdef run_trial(self):\n",
    "\t\tself.mix = self.datamix();\n",
    "\t\tfor i in range(self.pos.shape[0]):\n",
    "\t\t\tself.run_episode(i)\n",
    "\n",
    "\n",
    "\tdef run_episode(self,i):\n",
    "\t\tpt = self.pos[self.mix[i]]\n",
    "\t\td = self.distance(pt)\n",
    "\t\t[lx,ly] = self.winner(d)\n",
    "\t\th = self.neighborhood_factor(lx[0],ly[0])\n",
    "\t\tself.update_lattice(h,pt)\n",
    "\n",
    "\n",
    "\tdef update_lattice(self,h,pt):\n",
    "\t\tfor i in range(self.lattice.shape[2]):\n",
    "\t\t\tself.lattice[:,:,i] += self.eta()*h*((pt-self.lattice)[:,:,i])\n",
    "\n",
    "\n",
    "\n",
    "\t### Neighborhood factor ###\n",
    "        \n",
    "\tdef distance(self, pt):\n",
    "\t\treturn np.linalg.norm(self.lattice - pt,axis=2)**2\n",
    "    \n",
    "    \n",
    "\tdef winner(self,d):\n",
    "\t\treturn np.where(d == d.min())\n",
    "        \n",
    "    \n",
    "\tdef neighborhood_factor(self,lx,ly):\n",
    "\t\th = np.zeros((self.Nn,self.Nn))\n",
    "\t\tfor i in range(self.Nn):\n",
    "\t\t\tfor j in range(self.Nn):\n",
    "\t\t\t\tdist = (i-lx)**2 + (j-ly)**2\n",
    "\t\t\t\th[i,j] = np.exp(-dist/(2*self.sigma()**2))\n",
    "\t\treturn h\n",
    "\n",
    "\n",
    "\n",
    "\t### Parameters ###\n",
    "        \n",
    "\tdef eta(self):\n",
    "\t\treturn self.eta_0*(1-self.trial/self.tau)\n",
    "    \n",
    "    \n",
    "\tdef sigma(self):\n",
    "\t\treturn self.sigma_0*(1-self.trial/self.tau)\n",
    "        \n",
    "        \n",
    "\tdef datamix(self):\n",
    "\t\tmix = []\n",
    "\t\tfor j in range(self.pos.shape[0]):\n",
    "\t\t\tmix.append(random.randint(0,self.pos.shape[0]-1))\n",
    "\t\treturn mix"
   ]
  },
  {
   "cell_type": "markdown",
   "metadata": {},
   "source": [
    "## B. Perform SOM training\n",
    "----------------------------------"
   ]
  },
  {
   "cell_type": "code",
   "execution_count": 8,
   "metadata": {},
   "outputs": [
    {
     "ename": "KeyboardInterrupt",
     "evalue": "",
     "output_type": "error",
     "traceback": [
      "\u001b[0;31m---------------------------------------------------------------------------\u001b[0m",
      "\u001b[0;31mKeyboardInterrupt\u001b[0m                         Traceback (most recent call last)",
      "\u001b[0;32m<ipython-input-8-1aef8128757d>\u001b[0m in \u001b[0;36m<module>\u001b[0;34m()\u001b[0m\n\u001b[1;32m      4\u001b[0m \u001b[0mT\u001b[0m \u001b[0;34m=\u001b[0m \u001b[0mtime\u001b[0m\u001b[0;34m.\u001b[0m\u001b[0mtime\u001b[0m\u001b[0;34m(\u001b[0m\u001b[0;34m)\u001b[0m\u001b[0;34m\u001b[0m\u001b[0m\n\u001b[1;32m      5\u001b[0m \u001b[0msom\u001b[0m \u001b[0;34m=\u001b[0m \u001b[0mSOM\u001b[0m\u001b[0;34m(\u001b[0m\u001b[0;36m0\u001b[0m\u001b[0;34m)\u001b[0m\u001b[0;34m\u001b[0m\u001b[0m\n\u001b[0;32m----> 6\u001b[0;31m \u001b[0msom\u001b[0m\u001b[0;34m.\u001b[0m\u001b[0mrun_som\u001b[0m\u001b[0;34m(\u001b[0m\u001b[0;34m)\u001b[0m\u001b[0;34m\u001b[0m\u001b[0m\n\u001b[0m\u001b[1;32m      7\u001b[0m \u001b[0;32mprint\u001b[0m \u001b[0mtime\u001b[0m\u001b[0;34m.\u001b[0m\u001b[0mtime\u001b[0m\u001b[0;34m(\u001b[0m\u001b[0;34m)\u001b[0m \u001b[0;34m-\u001b[0m \u001b[0mT\u001b[0m\u001b[0;34m\u001b[0m\u001b[0m\n",
      "\u001b[0;32m<ipython-input-7-5674c8532111>\u001b[0m in \u001b[0;36mrun_som\u001b[0;34m(self)\u001b[0m\n\u001b[1;32m     57\u001b[0m                 \u001b[0mself\u001b[0m\u001b[0;34m.\u001b[0m\u001b[0mpos\u001b[0m \u001b[0;34m=\u001b[0m \u001b[0msomad\u001b[0m\u001b[0;34m.\u001b[0m\u001b[0mload_data\u001b[0m\u001b[0;34m(\u001b[0m\u001b[0mself\u001b[0m\u001b[0;34m.\u001b[0m\u001b[0mcsv_file\u001b[0m\u001b[0;34m)\u001b[0m\u001b[0;34m\u001b[0m\u001b[0m\n\u001b[1;32m     58\u001b[0m                 \u001b[0;32mwhile\u001b[0m\u001b[0;34m(\u001b[0m\u001b[0mself\u001b[0m\u001b[0;34m.\u001b[0m\u001b[0mtrial\u001b[0m \u001b[0;34m<\u001b[0m \u001b[0mself\u001b[0m\u001b[0;34m.\u001b[0m\u001b[0mtau\u001b[0m\u001b[0;34m)\u001b[0m\u001b[0;34m:\u001b[0m\u001b[0;34m\u001b[0m\u001b[0m\n\u001b[0;32m---> 59\u001b[0;31m                         \u001b[0mself\u001b[0m\u001b[0;34m.\u001b[0m\u001b[0mrun_trial\u001b[0m\u001b[0;34m(\u001b[0m\u001b[0;34m)\u001b[0m\u001b[0;34m\u001b[0m\u001b[0m\n\u001b[0m\u001b[1;32m     60\u001b[0m                         \u001b[0msomad\u001b[0m\u001b[0;34m.\u001b[0m\u001b[0msave_lattice\u001b[0m\u001b[0;34m(\u001b[0m\u001b[0mself\u001b[0m\u001b[0;34m.\u001b[0m\u001b[0mlattice\u001b[0m\u001b[0;34m)\u001b[0m\u001b[0;34m\u001b[0m\u001b[0m\n\u001b[1;32m     61\u001b[0m                         \u001b[0;32mif\u001b[0m\u001b[0;34m(\u001b[0m\u001b[0mself\u001b[0m\u001b[0;34m.\u001b[0m\u001b[0mvideo\u001b[0m\u001b[0;34m)\u001b[0m\u001b[0;34m:\u001b[0m \u001b[0msomad\u001b[0m\u001b[0;34m.\u001b[0m\u001b[0mvisualization\u001b[0m\u001b[0;34m(\u001b[0m\u001b[0mself\u001b[0m\u001b[0;34m.\u001b[0m\u001b[0mlattice\u001b[0m\u001b[0;34m,\u001b[0m\u001b[0mself\u001b[0m\u001b[0;34m.\u001b[0m\u001b[0mNn\u001b[0m\u001b[0;34m,\u001b[0m\u001b[0mself\u001b[0m\u001b[0;34m.\u001b[0m\u001b[0meta\u001b[0m\u001b[0;34m(\u001b[0m\u001b[0;34m)\u001b[0m\u001b[0;34m,\u001b[0m\u001b[0mself\u001b[0m\u001b[0;34m.\u001b[0m\u001b[0msigma\u001b[0m\u001b[0;34m(\u001b[0m\u001b[0;34m)\u001b[0m\u001b[0;34m,\u001b[0m\u001b[0mself\u001b[0m\u001b[0;34m.\u001b[0m\u001b[0mtrial\u001b[0m\u001b[0;34m)\u001b[0m\u001b[0;34m\u001b[0m\u001b[0m\n",
      "\u001b[0;32m<ipython-input-7-5674c8532111>\u001b[0m in \u001b[0;36mrun_trial\u001b[0;34m(self)\u001b[0m\n\u001b[1;32m     70\u001b[0m                 \u001b[0mself\u001b[0m\u001b[0;34m.\u001b[0m\u001b[0mmix\u001b[0m \u001b[0;34m=\u001b[0m \u001b[0mself\u001b[0m\u001b[0;34m.\u001b[0m\u001b[0mdatamix\u001b[0m\u001b[0;34m(\u001b[0m\u001b[0;34m)\u001b[0m\u001b[0;34m;\u001b[0m\u001b[0;34m\u001b[0m\u001b[0m\n\u001b[1;32m     71\u001b[0m                 \u001b[0;32mfor\u001b[0m \u001b[0mi\u001b[0m \u001b[0;32min\u001b[0m \u001b[0mrange\u001b[0m\u001b[0;34m(\u001b[0m\u001b[0mself\u001b[0m\u001b[0;34m.\u001b[0m\u001b[0mpos\u001b[0m\u001b[0;34m.\u001b[0m\u001b[0mshape\u001b[0m\u001b[0;34m[\u001b[0m\u001b[0;36m0\u001b[0m\u001b[0;34m]\u001b[0m\u001b[0;34m)\u001b[0m\u001b[0;34m:\u001b[0m\u001b[0;34m\u001b[0m\u001b[0m\n\u001b[0;32m---> 72\u001b[0;31m                         \u001b[0mself\u001b[0m\u001b[0;34m.\u001b[0m\u001b[0mrun_episode\u001b[0m\u001b[0;34m(\u001b[0m\u001b[0mi\u001b[0m\u001b[0;34m)\u001b[0m\u001b[0;34m\u001b[0m\u001b[0m\n\u001b[0m\u001b[1;32m     73\u001b[0m \u001b[0;34m\u001b[0m\u001b[0m\n\u001b[1;32m     74\u001b[0m \u001b[0;34m\u001b[0m\u001b[0m\n",
      "\u001b[0;32m<ipython-input-7-5674c8532111>\u001b[0m in \u001b[0;36mrun_episode\u001b[0;34m(self, i)\u001b[0m\n\u001b[1;32m     77\u001b[0m                 \u001b[0md\u001b[0m \u001b[0;34m=\u001b[0m \u001b[0mself\u001b[0m\u001b[0;34m.\u001b[0m\u001b[0mdistance\u001b[0m\u001b[0;34m(\u001b[0m\u001b[0mpt\u001b[0m\u001b[0;34m)\u001b[0m\u001b[0;34m\u001b[0m\u001b[0m\n\u001b[1;32m     78\u001b[0m                 \u001b[0;34m[\u001b[0m\u001b[0mlx\u001b[0m\u001b[0;34m,\u001b[0m\u001b[0mly\u001b[0m\u001b[0;34m]\u001b[0m \u001b[0;34m=\u001b[0m \u001b[0mself\u001b[0m\u001b[0;34m.\u001b[0m\u001b[0mwinner\u001b[0m\u001b[0;34m(\u001b[0m\u001b[0md\u001b[0m\u001b[0;34m)\u001b[0m\u001b[0;34m\u001b[0m\u001b[0m\n\u001b[0;32m---> 79\u001b[0;31m                 \u001b[0mh\u001b[0m \u001b[0;34m=\u001b[0m \u001b[0mself\u001b[0m\u001b[0;34m.\u001b[0m\u001b[0mneighborhood_factor\u001b[0m\u001b[0;34m(\u001b[0m\u001b[0mlx\u001b[0m\u001b[0;34m[\u001b[0m\u001b[0;36m0\u001b[0m\u001b[0;34m]\u001b[0m\u001b[0;34m,\u001b[0m\u001b[0mly\u001b[0m\u001b[0;34m[\u001b[0m\u001b[0;36m0\u001b[0m\u001b[0;34m]\u001b[0m\u001b[0;34m)\u001b[0m\u001b[0;34m\u001b[0m\u001b[0m\n\u001b[0m\u001b[1;32m     80\u001b[0m                 \u001b[0mself\u001b[0m\u001b[0;34m.\u001b[0m\u001b[0mupdate_lattice\u001b[0m\u001b[0;34m(\u001b[0m\u001b[0mh\u001b[0m\u001b[0;34m,\u001b[0m\u001b[0mpt\u001b[0m\u001b[0;34m)\u001b[0m\u001b[0;34m\u001b[0m\u001b[0m\n\u001b[1;32m     81\u001b[0m \u001b[0;34m\u001b[0m\u001b[0m\n",
      "\u001b[0;32m<ipython-input-7-5674c8532111>\u001b[0m in \u001b[0;36mneighborhood_factor\u001b[0;34m(self, lx, ly)\u001b[0m\n\u001b[1;32m    102\u001b[0m                         \u001b[0;32mfor\u001b[0m \u001b[0mj\u001b[0m \u001b[0;32min\u001b[0m \u001b[0mrange\u001b[0m\u001b[0;34m(\u001b[0m\u001b[0mself\u001b[0m\u001b[0;34m.\u001b[0m\u001b[0mNn\u001b[0m\u001b[0;34m)\u001b[0m\u001b[0;34m:\u001b[0m\u001b[0;34m\u001b[0m\u001b[0m\n\u001b[1;32m    103\u001b[0m                                 \u001b[0mdist\u001b[0m \u001b[0;34m=\u001b[0m \u001b[0;34m(\u001b[0m\u001b[0mi\u001b[0m\u001b[0;34m-\u001b[0m\u001b[0mlx\u001b[0m\u001b[0;34m)\u001b[0m\u001b[0;34m**\u001b[0m\u001b[0;36m2\u001b[0m \u001b[0;34m+\u001b[0m \u001b[0;34m(\u001b[0m\u001b[0mj\u001b[0m\u001b[0;34m-\u001b[0m\u001b[0mly\u001b[0m\u001b[0;34m)\u001b[0m\u001b[0;34m**\u001b[0m\u001b[0;36m2\u001b[0m\u001b[0;34m\u001b[0m\u001b[0m\n\u001b[0;32m--> 104\u001b[0;31m                                 \u001b[0mh\u001b[0m\u001b[0;34m[\u001b[0m\u001b[0mi\u001b[0m\u001b[0;34m,\u001b[0m\u001b[0mj\u001b[0m\u001b[0;34m]\u001b[0m \u001b[0;34m=\u001b[0m \u001b[0mnp\u001b[0m\u001b[0;34m.\u001b[0m\u001b[0mexp\u001b[0m\u001b[0;34m(\u001b[0m\u001b[0;34m-\u001b[0m\u001b[0mdist\u001b[0m\u001b[0;34m/\u001b[0m\u001b[0;34m(\u001b[0m\u001b[0;36m2\u001b[0m\u001b[0;34m*\u001b[0m\u001b[0mself\u001b[0m\u001b[0;34m.\u001b[0m\u001b[0msigma\u001b[0m\u001b[0;34m(\u001b[0m\u001b[0;34m)\u001b[0m\u001b[0;34m**\u001b[0m\u001b[0;36m2\u001b[0m\u001b[0;34m)\u001b[0m\u001b[0;34m)\u001b[0m\u001b[0;34m\u001b[0m\u001b[0m\n\u001b[0m\u001b[1;32m    105\u001b[0m                 \u001b[0;32mreturn\u001b[0m \u001b[0mh\u001b[0m\u001b[0;34m\u001b[0m\u001b[0m\n\u001b[1;32m    106\u001b[0m \u001b[0;34m\u001b[0m\u001b[0m\n",
      "\u001b[0;31mKeyboardInterrupt\u001b[0m: "
     ]
    }
   ],
   "source": [
    "# from SOM_Surname_Name import SOM\n",
    "##som = SOM(visualization, data file [The provided file robot_positions.csv is used by default])\n",
    "import time\n",
    "T = time.time()\n",
    "som = SOM(0)\n",
    "som.run_som()\n",
    "print time.time() - T"
   ]
  },
  {
   "cell_type": "markdown",
   "metadata": {},
   "source": [
    "## C. Evaluation of result (for non-graduated students) "
   ]
  },
  {
   "cell_type": "raw",
   "metadata": {},
   "source": [
    "Remark: The goal is to minimize a distance between the centers of clusters and data points.\n",
    "        Please, be aware that the order of result number depends on the size of the SOM lattice.\n",
    "        It means that increasing the cluster numbers will give you smaller result value.\n",
    "        But for your specific task, this wouldn't make any sense. \n",
    "        So, please, try to find minimal enough number of clusters. (This would also optimize the training time.)"
   ]
  },
  {
   "cell_type": "code",
   "execution_count": null,
   "metadata": {},
   "outputs": [],
   "source": [
    "# Variation: Estimate result of SOM training\n",
    "from epflx_robox_nrp_utils.SOM.SOM_evaluation import SOM_evaluation\n",
    "somev = SOM_evaluation()\n",
    "var, N = somev.run_evaluation()\n",
    "print \"Your result is equal to\", var, \"with SOM (\", N, \"x\", N,\").\""
   ]
  },
  {
   "cell_type": "markdown",
   "metadata": {},
   "source": [
    "## =============================  SOM evaluation  ============================"
   ]
  },
  {
   "cell_type": "markdown",
   "metadata": {},
   "source": [
    "## SOM evaluation (for only one graduated student) "
   ]
  },
  {
   "cell_type": "raw",
   "metadata": {},
   "source": [
    "# Beta-test: solution list\n",
    "\n",
    "'SOM_Berat_Denizdurduran.py'\n",
    "'SOM_Marc-Oliver_Gewaltig.py'\n",
    "'SOM_Woody_Allen.py'\n",
    "'SOM_Elon_Musk.py'\n",
    "'SOM_Ihor_Kuras.py'"
   ]
  },
  {
   "cell_type": "code",
   "execution_count": null,
   "metadata": {
    "scrolled": true
   },
   "outputs": [],
   "source": [
    "from SOM_autograduation import SOM_autograduation\n",
    "somag = SOM_autograduation()\n",
    "somag.one_function_graduation('SOM_Marc-Oliver_Gewaltig.py')"
   ]
  },
  {
   "cell_type": "markdown",
   "metadata": {},
   "source": [
    "## SOM evaluation (for all graduated students) "
   ]
  },
  {
   "cell_type": "code",
   "execution_count": null,
   "metadata": {},
   "outputs": [],
   "source": [
    "from SOM_autograduation import SOM_autograduation\n",
    "somag = SOM_autograduation()\n",
    "somag.all_functions_graduation()"
   ]
  },
  {
   "cell_type": "markdown",
   "metadata": {},
   "source": [
    "## Display graduation results "
   ]
  },
  {
   "cell_type": "code",
   "execution_count": null,
   "metadata": {},
   "outputs": [],
   "source": [
    "from SOM_autograduation import SOM_autograduation\n",
    "somag = SOM_autograduation()\n",
    "somag.open_webpage()"
   ]
  },
  {
   "cell_type": "code",
   "execution_count": null,
   "metadata": {},
   "outputs": [],
   "source": []
  }
 ],
 "metadata": {
  "kernelspec": {
   "display_name": "Python 2",
   "language": "python",
   "name": "python2"
  },
  "language_info": {
   "codemirror_mode": {
    "name": "ipython",
    "version": 2
   },
   "file_extension": ".py",
   "mimetype": "text/x-python",
   "name": "python",
   "nbconvert_exporter": "python",
   "pygments_lexer": "ipython2",
   "version": "2.7.12"
  }
 },
 "nbformat": 4,
 "nbformat_minor": 2
}
