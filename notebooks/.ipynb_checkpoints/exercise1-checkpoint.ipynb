{
 "cells": [
  {
   "cell_type": "markdown",
   "metadata": {},
   "source": [
    "# Exercise 1: Make the robot explore its environment by following Braitenberg rules"
   ]
  },
  {
   "cell_type": "markdown",
   "metadata": {},
   "source": [
    "## A. Launch the neurorobotics simulation of Exercise 1"
   ]
  },
  {
   "cell_type": "code",
   "execution_count": null,
   "metadata": {},
   "outputs": [],
   "source": [
    "from hbp_nrp_virtual_coach.virtual_coach import VirtualCoach\n",
    "\n",
    "# Initialize the Virtual Coach\n",
    "\"\"\" ----- TO DO -----\"\"\"\n",
    "user_name = '<your-hbp-account-user-name>'\n",
    "\"\"\" ----- TO DO -----\"\"\"\n",
    "\n",
    "# Fill in your password when prompted\n",
    "vc = VirtualCoach(environment='staging', oidc_username=user_name)"
   ]
  },
  {
   "cell_type": "code",
   "execution_count": null,
   "metadata": {},
   "outputs": [],
   "source": [
    "# Copy Exercise 1's experiment template into your private storage\n",
    "\n",
    "# You need first to take ownership of the template called 'Exercise 1: Make the robot explore ...' by making a \n",
    "# copy of it into your NRP private storage. This is a 3-step process: \n",
    "\n",
    "# (1) Join the Neurorobotics Platform at http://148.187.97.48/#/esv-private and select the Templates tab\n",
    "# (2) Select the experiment whose title starts with \"Exercise 1\" (you can use the filter at the top right-end corner)\n",
    "# (3) Press the \"Clone\" button; now you own a copy of the experiment \n",
    "# The following command will display the list of experiments located in your storage\n",
    "# Check that 'Exercise 1: Make the robot explore ...' is one of them.\n",
    "vc.print_cloned_experiments() "
   ]
  },
  {
   "cell_type": "code",
   "execution_count": null,
   "metadata": {},
   "outputs": [],
   "source": [
    "# Launch Exercise 1's experiment\n",
    "sim = vc.launch_experiment('Exercise 1: Make the robot explore its environment by following Braitenberg rules')\n",
    "\n",
    "# Run the experiment\n",
    "\"\"\" ----- TO DO -----\"\"\"\n",
    "# Choose the simulation time\n",
    "Time = 240\n",
    "\"\"\" ----- TO DO -----\"\"\"\n",
    "\n",
    "sim.start()\n",
    "time.sleep(Time)\n",
    "sim.pause()"
   ]
  },
  {
   "cell_type": "markdown",
   "metadata": {},
   "source": [
    "## B. Retrieve the recorded robot positions"
   ]
  },
  {
   "cell_type": "code",
   "execution_count": null,
   "metadata": {},
   "outputs": [],
   "source": [
    "# Check if robot positions have been recorded\n",
    "sim.print_csv_file_names() # You should see a file named\n",
    "sim.stop() # We are done with the simulation now"
   ]
  },
  {
   "cell_type": "code",
   "execution_count": null,
   "metadata": {},
   "outputs": [],
   "source": [
    "# Retrieve and transform the recorded positions\n",
    "import pandas as pd\n",
    "import numpy as np\n",
    "\n",
    "states = pd.read_csv('NRP_data_robot_positions.csv', delimiter=',',header=0).values\n",
    "positions = np.array([pd.to_numeric(states[:,0], errors='coerce'), pd.to_numeric(states[:,1], errors='coerce')]).T"
   ]
  },
  {
   "cell_type": "markdown",
   "metadata": {},
   "source": [
    "## C. Visualize the recorded robot positions"
   ]
  },
  {
   "cell_type": "code",
   "execution_count": null,
   "metadata": {},
   "outputs": [],
   "source": [
    "print \"# Visualization of Exploration data #\"\n",
    "print \"#####################################\"\n",
    "\n",
    "import matplotlib.pyplot as plt\n",
    "from matplotlib import patches\n",
    "\n",
    "# Obstacles\n",
    "rect1 = patches.Rectangle((-3.0,-1.0), 1., 2., color='black')\n",
    "rect2 = patches.Rectangle((-3.0, 1.0), 3., 1., color='black')\n",
    "rect3 = patches.Rectangle(( 0.0,-2.0), 2., 1., color='black')\n",
    "rect4 = patches.Rectangle(( 2.0,-2.0), 1., 3., color='black')\n",
    "\n",
    "# # Plot positions\n",
    "fig = plt.figure(0,figsize=(8, 6))\n",
    "\n",
    "ax = fig.add_subplot(111)\n",
    "ax.add_patch(rect1)\n",
    "ax.add_patch(rect2)\n",
    "ax.add_patch(rect3)\n",
    "ax.add_patch(rect4)\n",
    "\n",
    "plt.scatter(states[:,0], states[:,1], s=1e-5)\n",
    "plt.axis([-4.8, 4.8, -4.8, 4.8])\n",
    "plt.gca().set_aspect('equal', adjustable='box')\n",
    "plt.show()"
   ]
  }
 ],
 "metadata": {
  "kernelspec": {
   "display_name": "Python 2",
   "language": "python",
   "name": "python2"
  },
  "language_info": {
   "codemirror_mode": {
    "name": "ipython",
    "version": 2
   },
   "file_extension": ".py",
   "mimetype": "text/x-python",
   "name": "python",
   "nbconvert_exporter": "python",
   "pygments_lexer": "ipython2",
   "version": "2.7.12"
  }
 },
 "nbformat": 4,
 "nbformat_minor": 2
}
