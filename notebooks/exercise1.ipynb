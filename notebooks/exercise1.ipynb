{
 "cells": [
  {
   "cell_type": "markdown",
   "metadata": {},
   "source": [
    "# Exercise 1: Make the robot explore its environment by following Braitenberg rules"
   ]
  },
  {
   "cell_type": "markdown",
   "metadata": {},
   "source": [
    "## A. Launch the neurorobotics simulation of Exercise 1\n",
    "----------------------------------------------------------------------"
   ]
  },
  {
   "cell_type": "code",
   "execution_count": null,
   "metadata": {},
   "outputs": [],
   "source": [
    "from hbp_nrp_virtual_coach.virtual_coach import VirtualCoach\n",
    "\n",
    "# Initialize the Virtual Coach\n",
    "\"\"\" ----- TO DO -----\"\"\"\n",
    "username = '<your-hbp-account-username>'\n",
    "\"\"\" ----- TO DO -----\"\"\"\n",
    "\n",
    "# Fill in your password when prompted\n",
    "vc = VirtualCoach(environment='staging', oidc_username=username)"
   ]
  },
  {
   "cell_type": "markdown",
   "metadata": {},
   "source": [
    "**Copy Exercise 1's experiment template into your private storage.**\n",
    "\n",
    " You need first to take ownership of the template called *'Exercise 1: Make the robot explore ...'* by making a \n",
    " copy of it into your NRP private storage. This is a 3-step process: \n",
    "\n",
    " (1) Join the [Neurorobotics Platform](http://148.187.97.48/#/esv-private) and select the *Templates* tab.\n",
    " (2) Select the experiment whose title starts with \"Exercise 1\" (you can use the filter at the top right-end corner).\n",
    " (3) Press the *Clone* button; now you own a copy of the experiment which is visible in *My Experiments* tab."
   ]
  },
  {
   "cell_type": "code",
   "execution_count": null,
   "metadata": {},
   "outputs": [],
   "source": [
    "# The following command will display the list of experiments located in your storage\n",
    "# Check that 'Exercise1_0' (possibly Exercise1_i if you made i + 1 copies) is one of them.\n",
    "vc.print_cloned_experiments()"
   ]
  },
  {
   "cell_type": "code",
   "execution_count": null,
   "metadata": {},
   "outputs": [],
   "source": [
    "# Launch Exercise 1's experiment\n",
    "sim = vc.launch_experiment('Exercise1_0')"
   ]
  },
  {
   "cell_type": "markdown",
   "metadata": {},
   "source": [
    "## B. Fill in the gaps of the Braitenberg controller\n",
    "--------------------------------------------------------------\n",
    "This part of the exercise shall be completed in the simulation environment of the [Neurorobotics Platform](http://148.187.97.48/#/esv-private).\n",
    "The [NRP User Manual]( https://developer.humanbrainproject.eu/docs/projects/HBP%20Neurorobotics%20Platform/2.0/nrp/user_manual/index.html) explains how to interact with the simulation and its embedded code editors."
   ]
  },
  {
   "cell_type": "markdown",
   "metadata": {},
   "source": [
    "### B.1 Tune actuator and sensor parameters in order to achieve exploration and obstacle avoidance\n",
    "Open the *Running Simulations* tab of the [Neurorobotics Platform](http://148.187.97.48/#/esv-private) and join the simulation you have just launched. Open then the [*Transfer Function Editor*](https://developer.humanbrainproject.eu/docs/projects/HBP%20Neurorobotics%20Platform/2.0/nrp/user_manual/user_interface/edit/7-gz3d-tf-editor.html) and edit the files *velocity_commands.py* and *laser_sensors_transmit.py*. Tweak the values of the parameters `lin_max`, `lin_factor` and `ang_factor` in the first file, and the values of `idx_right`, `x_0` and `y_0` in the second file until the robot starts exploring its environment while avoiding obstacles."
   ]
  },
  {
   "cell_type": "markdown",
   "metadata": {},
   "source": [
    "### B.2 Move automatically the robot when it gets stuck\n",
    "Open the [SMACH Script Editor*](https://developer.humanbrainproject.eu/docs/projects/HBP%20Neurorobotics%20Platform/2.0/nrp/user_manual/user_interface/edit/7-gz3d-edit-simulation.html) and edit the file *move_robot.exd* so that the robot is moved every time it gets stuck. You need to add a new state of type `SetRobotPose` to the state machine. You can check the documentation on SMACH StateMachines [here](https://developer.humanbrainproject.eu/docs/projects/HBP%20Neurorobotics%20Platform/2.0/nrp/tutorials/experiment/state_machines.html?highlight=state%20machine)"
   ]
  },
  {
   "cell_type": "markdown",
   "metadata": {},
   "source": [
    "Save your changes and stop the simulation from the graphical user interface before going to the next step."
   ]
  },
  {
   "cell_type": "markdown",
   "metadata": {},
   "source": [
    "## C. Record the robot positions\n",
    "----------------------------------------\n",
    "From now on, we assume that you correctly implemented the Braitenberg exploration behaviour of the robot.\n",
    "You will launch Exercise 1's experiment again and let the simulation record the robot positions for a while."
   ]
  },
  {
   "cell_type": "code",
   "execution_count": null,
   "metadata": {},
   "outputs": [],
   "source": [
    "# Launch Exercise 1's experiment for a sufficiently long time so as to collect robot positions\n",
    "sim = vc.launch_experiment('Exercise1_0')\n",
    "\n",
    "\"\"\" ----- TO DO -----\"\"\"\n",
    "# Choose the simulation duration\n",
    "Time = 240\n",
    "\"\"\" ----- TO DO -----\"\"\"\n",
    "\n",
    "# Run the experiment\n",
    "sim.start()\n",
    "# You can join the simulation and check if the robot does a proper job.\n",
    "# In the mean time, a transfer function is recording the robot position \n",
    "# every 20 ms into the file robot_positions.csv.\n",
    "import time\n",
    "time.sleep(Time) \n",
    "sim.pause()"
   ]
  },
  {
   "cell_type": "markdown",
   "metadata": {},
   "source": [
    "## D. Retrieve the recorded robot positions\n",
    "------------------------------------------------------"
   ]
  },
  {
   "cell_type": "code",
   "execution_count": null,
   "metadata": {},
   "outputs": [],
   "source": [
    "# Retrieve the latest recorded positions\n",
    "csv_content = vc.get_last_run_csv_file('Exercise1_0', 'robot_position.csv')\n",
    "#sim.stop() # We are done with the simulation now"
   ]
  },
  {
   "cell_type": "code",
   "execution_count": null,
   "metadata": {},
   "outputs": [],
   "source": [
    "# Transform the latest recorded positions\n",
    "import pandas as pd\n",
    "import numpy as np\n",
    "from StringIO import StringIO\n",
    "\n",
    "csv_text = '\\n'.join(','.join(line) for line in csv_content)\n",
    "states = pd.read_csv(StringIO(csv_text), delimiter=',',header=0).values\n",
    "positions = np.array([pd.to_numeric(states[:,0], errors='coerce'), pd.to_numeric(states[:,1], errors='coerce')]).T"
   ]
  },
  {
   "cell_type": "markdown",
   "metadata": {},
   "source": [
    "## E. Visualize the recorded robot positions\n",
    "-------------------------------------------------------"
   ]
  },
  {
   "cell_type": "code",
   "execution_count": null,
   "metadata": {},
   "outputs": [],
   "source": [
    "print \"#####################################\"\n",
    "print \"# Visualization of Exploration data #\"\n",
    "print \"#####################################\"\n",
    "\n",
    "import numpy\n",
    "import matplotlib.pyplot as plt\n",
    "from matplotlib import patches\n",
    "from matplotlib import transforms\n",
    "\n",
    "fig = plt.figure(0,figsize=(8, 6))\n",
    "base = plt.gca().transData\n",
    "rot = transforms.Affine2D().rotate_deg(-90)\n",
    "transform = rot + base\n",
    "\n",
    "# Obstacles\n",
    "rect1 = patches.Rectangle((-3.0,-1.0), 1., 2., color='black', transform=transform)\n",
    "rect2 = patches.Rectangle((-3.0, 1.0), 3., 1., color='black', transform=transform)\n",
    "rect3 = patches.Rectangle(( 0.0,-2.0), 2., 1., color='black', transform=transform)\n",
    "rect4 = patches.Rectangle(( 2.0,-2.0), 1., 3., color='black', transform=transform)\n",
    "ax = fig.add_subplot(111)\n",
    "ax.add_patch(rect1)\n",
    "ax.add_patch(rect2)\n",
    "ax.add_patch(rect3)\n",
    "ax.add_patch(rect4)\n",
    "\n",
    "# Plot positions\n",
    "plt.scatter(states[:,0], states[:,1], s=4e-3, color='r', transform=transform)\n",
    "plt.axis([-4.8, 4.8, -4.8, 4.8])\n",
    "plt.gca().set_aspect('equal', adjustable='box')\n",
    "plt.show()"
   ]
  }
 ],
 "metadata": {
  "kernelspec": {
   "display_name": "Python 2",
   "language": "python",
   "name": "python2"
  },
  "language_info": {
   "codemirror_mode": {
    "name": "ipython",
    "version": 2
   },
   "file_extension": ".py",
   "mimetype": "text/x-python",
   "name": "python",
   "nbconvert_exporter": "python",
   "pygments_lexer": "ipython2",
   "version": "2.7.12"
  }
 },
 "nbformat": 4,
 "nbformat_minor": 2
}
