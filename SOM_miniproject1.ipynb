{
 "cells": [
  {
   "cell_type": "markdown",
   "metadata": {},
   "source": [
    "## Mini-project 1: Self-Organizing Map (SOM)"
   ]
  },
  {
   "cell_type": "markdown",
   "metadata": {},
   "source": [
    "## TO DO ===> SOM implementation function"
   ]
  },
  {
   "cell_type": "raw",
   "metadata": {},
   "source": [
    "# Script will be saved to the file for its submition via the command: %%writefile SOM_Surname_Name.py\n",
    "# Please, put your Surname and Name as the name of file for autorecognition of your personality\n",
    "# Once you are ready to submit your SOM implementation, please, uncomment the first line to create your file.\n",
    "\n",
    "Remarks:\n",
    "1) Don't use the map size over than 10x10, it's not reasonable to use very huge map for our simple environment.\n",
    "2) Basically, the thoery says the 1 minute of simulation is totaly enough for SOM training in our experiment."
   ]
  },
  {
   "cell_type": "code",
   "execution_count": 3,
   "metadata": {},
   "outputs": [],
   "source": [
    "#%%writefile SOM_Surname_Name.py \n",
    "# class SOM (SOM_solution)\n",
    "\n",
    "import numpy as np\n",
    "import random\n",
    "\n",
    "from IPython import display\n",
    "\n",
    "\n",
    "\n",
    "class SOM():\n",
    "\n",
    "\t# Self-Organizing Map mapping the environment depending on the positions visited by the robot\n",
    "    \n",
    "\tdef __init__(self, video=0, csv_file='NRP_data_robot_positions.csv'):\n",
    "\t\t# Inputs:\n",
    "\t\t#\t Nn: size of the 2D lattice (Nn*Nn)\n",
    "\t\t#\t eta: learning rate\n",
    "\t\t#\t sigma_0: initial width of the neighborhood function\n",
    "\t\t#\t tau_sigma: mean life time of width (decaying exponential)\n",
    "\t\t#\t sigma_min: width minimum value\n",
    "\n",
    "\n",
    "\t\t''' TO DO: set parameters of SOM training '''\n",
    "\t\tself.Nn = 12\n",
    "\t\tself.eta_0 = 1.0\n",
    "\t\tself.sigma_0 = 3.0\n",
    "        \n",
    "\t\tself.eta_min = 0.001\n",
    "\t\tself.sigma_min = 0.0\n",
    "        \n",
    "\t\tself.tau = 100.0\n",
    "\t\t''' --------------- TO DO --------------- '''\n",
    "    \n",
    "\n",
    "\t\tself.pos = {}\n",
    "\t\tself.mix = {}\n",
    "\t\tself.trial = 0 # number of updates (eta and sigma can depend on the number of updates)\n",
    "\t\tself.video = video\n",
    "\t\tself.csv_file = csv_file\n",
    "        \n",
    "\t\t# Lattice of neurons (SOM) of size [Nn,Nn]. The third dimension allows to store x and y coordinates.\n",
    "\t\t# The values are randomly initialized\n",
    "\t\tself.lattice = np.random.uniform(0.,1.0,(self.Nn,self.Nn,2))\n",
    "        \n",
    "\n",
    "    \n",
    "    \n",
    "\t### Run simulation (main function) ###\n",
    "        \n",
    "\tdef run_som(self):\n",
    "\t\t'''----- Additional functions: upload, visualize, save ----- '''\n",
    "\t\tfrom SOM_additional import SOM_additional\n",
    "\t\tsomad = SOM_additional() \n",
    "\t\t'''--------------------------------------------------------- '''\n",
    "        \n",
    "\t\tself.pos = somad.load_data(self.csv_file)\n",
    "\t\twhile(self.trial < self.tau):\n",
    "\t\t\tself.run_trial()\n",
    "\t\t\tsomad.save_lattice(self.lattice)\n",
    "\t\t\tif(self.video): somad.visualization(self.lattice,self.Nn,self.eta(),self.sigma(),self.trial)\n",
    "\t\t\tself.trial += 1\n",
    "\t\tdisplay.clear_output(wait=True)\n",
    "\n",
    "\n",
    "\n",
    "\t### SOM training stages ###\n",
    "\n",
    "\tdef run_trial(self):\n",
    "\t\tself.mix = self.datamix();\n",
    "\t\tfor i in range(self.pos.shape[0]):\n",
    "\t\t\tself.run_episode(i)\n",
    "\n",
    "\n",
    "\tdef run_episode(self,i):\n",
    "\t\tpt = self.pos[self.mix[i]]\n",
    "\t\td = self.distance(pt)\n",
    "\t\t[lx,ly] = self.winner(d)\n",
    "\t\th = self.neighborhood_factor(lx[0],ly[0])\n",
    "\t\tself.update_lattice(h,pt)\n",
    "\n",
    "\n",
    "\tdef update_lattice(self,h,pt):\n",
    "\t\tfor i in range(self.lattice.shape[2]):\n",
    "\t\t\tself.lattice[:,:,i] += self.eta()*h*((pt-self.lattice)[:,:,i])\n",
    "\n",
    "\n",
    "\n",
    "\t### Neighborhood factor ###\n",
    "        \n",
    "\tdef distance(self, pt):\n",
    "\t\treturn np.linalg.norm(self.lattice - pt,axis=2)**2\n",
    "    \n",
    "    \n",
    "\tdef winner(self,d):\n",
    "\t\treturn np.where(d == d.min())\n",
    "        \n",
    "    \n",
    "\tdef neighborhood_factor(self,lx,ly):\n",
    "\t\th = np.zeros((self.Nn,self.Nn))\n",
    "\t\tfor i in range(self.Nn):\n",
    "\t\t\tfor j in range(self.Nn):\n",
    "\t\t\t\tdist = (i-lx)**2 + (j-ly)**2\n",
    "\t\t\t\th[i,j] = np.exp(-dist/(2*self.sigma()**2))\n",
    "\t\treturn h\n",
    "\n",
    "\n",
    "\n",
    "\t### Parameters ###\n",
    "        \n",
    "\tdef eta(self):\n",
    "\t\treturn self.eta_0*(1-self.trial/self.tau)\n",
    "    \n",
    "    \n",
    "\tdef sigma(self):\n",
    "\t\treturn self.sigma_0*(1-self.trial/self.tau)\n",
    "        \n",
    "        \n",
    "\tdef datamix(self):\n",
    "\t\tmix = []\n",
    "\t\tfor j in range(self.pos.shape[0]):\n",
    "\t\t\tmix.append(random.randint(0,self.pos.shape[0]-1))\n",
    "\t\treturn mix"
   ]
  },
  {
   "cell_type": "markdown",
   "metadata": {},
   "source": [
    "## Run simulation (SOM training) "
   ]
  },
  {
   "cell_type": "code",
   "execution_count": 4,
   "metadata": {},
   "outputs": [
    {
     "name": "stdout",
     "output_type": "stream",
     "text": [
      "60.791036129\n"
     ]
    }
   ],
   "source": [
    "# from SOM_Surname_Name import SOM\n",
    "##som = SOM(visualization, data file [given from mini-project0 by default])\n",
    "import time\n",
    "T = time.time()\n",
    "som = SOM(0)\n",
    "som.run_som()\n",
    "print time.time()-T"
   ]
  },
  {
   "cell_type": "markdown",
   "metadata": {},
   "source": [
    "## Evaluation of result (for non-graduated students) "
   ]
  },
  {
   "cell_type": "raw",
   "metadata": {},
   "source": [
    "Remark: The goal is to minimize a distance between centers of clusters and data points.\n",
    "        Please, be aware that order of result number depends on size of SOM.\n",
    "        It means that incriasing of cluster numbers will give you smaller resulr value.\n",
    "        But for the particular tasks it wouldn't make any sense. \n",
    "        So, please, try to find minimal enough number of clusters (it would also optimize the training time)."
   ]
  },
  {
   "cell_type": "code",
   "execution_count": 3,
   "metadata": {},
   "outputs": [
    {
     "name": "stdout",
     "output_type": "stream",
     "text": [
      "Your result is equal to 0.0358302231847 with SOM ( 12 x 12 ).\n"
     ]
    }
   ],
   "source": [
    "# Variation: Estimate result of SOM training\n",
    "from SOM_evaluation import SOM_evaluation\n",
    "somev = SOM_evaluation()\n",
    "var, N = somev.run_evaluation()\n",
    "print \"Your result is equal to\", var, \"with SOM (\", N, \"x\", N,\").\""
   ]
  },
  {
   "cell_type": "markdown",
   "metadata": {},
   "source": [
    "## =============================  SOM evaluation  ============================"
   ]
  },
  {
   "cell_type": "markdown",
   "metadata": {},
   "source": [
    "## SOM evaluation (for only one graduated student) "
   ]
  },
  {
   "cell_type": "raw",
   "metadata": {},
   "source": [
    "# Beta-test: solution list\n",
    "\n",
    "'SOM_Berat_Denizdurduran.py'\n",
    "'SOM_Marc-Oliver_Gewaltig.py'\n",
    "'SOM_Woody_Allen.py'\n",
    "'SOM_Elon_Musk.py'\n",
    "'SOM_Ihor_Kuras.py'"
   ]
  },
  {
   "cell_type": "code",
   "execution_count": 4,
   "metadata": {
    "scrolled": true
   },
   "outputs": [
    {
     "name": "stdout",
     "output_type": "stream",
     "text": [
      "NRP_test1_robot_position.csv :\n",
      "Epoche 0\n",
      "Result:  1000.0 / 4.5 = 222.222222222 0.0\n",
      "NRP_test2_robot_position.csv :\n",
      "Epoche 0\n",
      "Result:  1000.0 / 4.5 = 222.222222222 0.0\n",
      "NRP_test3_robot_position.csv :\n",
      "Epoche 0\n",
      "Result:  1000.0 / 4.5 = 222.222222222 0.0\n"
     ]
    }
   ],
   "source": [
    "from SOM_autograduation import SOM_autograduation\n",
    "somag = SOM_autograduation()\n",
    "somag.one_function_graduation('SOM_Marc-Oliver_Gewaltig.py')"
   ]
  },
  {
   "cell_type": "markdown",
   "metadata": {},
   "source": [
    "## SOM evaluation (for all graduated students) "
   ]
  },
  {
   "cell_type": "code",
   "execution_count": 1,
   "metadata": {},
   "outputs": [
    {
     "name": "stdout",
     "output_type": "stream",
     "text": [
      "Result:  1.24209613871 / 1.22073519231 = 1.01749842762 6.0\n"
     ]
    }
   ],
   "source": [
    "from SOM_autograduation import SOM_autograduation\n",
    "somag = SOM_autograduation()\n",
    "somag.all_functions_graduation()"
   ]
  },
  {
   "cell_type": "markdown",
   "metadata": {},
   "source": [
    "## Display graduation results "
   ]
  },
  {
   "cell_type": "code",
   "execution_count": 2,
   "metadata": {},
   "outputs": [],
   "source": [
    "from SOM_autograduation import SOM_autograduation\n",
    "somag = SOM_autograduation()\n",
    "somag.open_webpage()"
   ]
  },
  {
   "cell_type": "code",
   "execution_count": null,
   "metadata": {},
   "outputs": [],
   "source": []
  }
 ],
 "metadata": {
  "kernelspec": {
   "display_name": "Python 2",
   "language": "python",
   "name": "python2"
  },
  "language_info": {
   "codemirror_mode": {
    "name": "ipython",
    "version": 2
   },
   "file_extension": ".py",
   "mimetype": "text/x-python",
   "name": "python",
   "nbconvert_exporter": "python",
   "pygments_lexer": "ipython2",
   "version": "2.7.12"
  }
 },
 "nbformat": 4,
 "nbformat_minor": 2
}
