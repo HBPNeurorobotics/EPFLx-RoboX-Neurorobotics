{
 "cells": [
  {
   "cell_type": "markdown",
   "metadata": {
    "editable": false,
    "scrolled": true
   },
   "source": [
    "# Exercise 2\n",
    "\n",
    "# Transform the recorded robot positions into a Self-Organizing Map (SOM)"
   ]
  },
  {
   "cell_type": "markdown",
   "metadata": {
    "editable": false,
    "scrolled": true
   },
   "source": [
    "## Introduction <a id='I'></a>\n",
    "\n",
    "</br><div style=\"text-align: justify\">In a self-organizing map (SOM), the neurons are placed at the nodes of a lattice that is usually one- or two-dimensional. Higher-dimensional maps are also possible but not as common. The neurons become selectively tuned to various input patterns (stimuli) or classes of input patterns in the course of a competitive learning process [1]. </div>\n",
    "\n",
    "</br><div style=\"text-align: justify\">The locations of the neurons so tuned (i.e., the winning neurons) become ordered with respect to each other in such a way that a meaningful coordinate system for different input features is created over the lattice [2]. </div>\n",
    "\n",
    "</br><div style=\"text-align: justify\">A self-organizing map is therefore characterized by the formation of a topographic map of the input patterns in which the spatial locations (i.e., coordinates) of the neurons in the lattice are indicative of intrinsic statistical features contained in the input patterns, hence the name \"self-organizing map\". So, the principle of topographic map formation may be stated as: </div>\n",
    "\n",
    "</br><div style=\"text-align: center\">*\" The spatial location of an output neuron in a topographic map corresponds to a particular domain or feature of data drawn the input space. \"*</div>\n",
    "\n",
    "</br><div style=\"text-align: justify\">Based on this principle, we can say that since a self-organizing map is inherently non-linear it may be viewed as a non-linerar generalization of principal components analysis [3]. Thus, **the task we are going to solve in this exercise is to reduce the number of recorded robot positions by creating a self-orginizing map which captures the main features of the original dataset.**</div>\n",
    "\n",
    "\n",
    "</br>**References:**<div style=\"text-align: justify\"> [1] S. Haykin (1998), \"Neural Networks. A Comprehensive Foundation\", Second Edition, Prentice Hall (1998), Chapter 9, pp. 465-505.</div>\n",
    "</br><div style=\"text-align: justify\">[2] T. Kohonen (1990) The Self-Organizing Map. Proceedings of the IEEE, 78, pp. 1464-1480.</div>\n",
    "</br><div style=\"text-align: justify\">[3] H. Ritter, Kohonen T. (1995) The Basic SOM. In: Self-Organizing Maps. Springer Series in Information Sciences, vol 30, pp. 77-130. </div>"
   ]
  },
  {
   "cell_type": "markdown",
   "metadata": {
    "scrolled": true
   },
   "source": [
    "--------------------------------------\n",
    "\n",
    "--------------------------------------\n",
    "## Getting started: solution of Excercise 1 <a id='S'></a>\n",
    "</br><div style=\"text-align: justify\"> This exercise aims at generating a self-organizing map based on the recorded robot positions (`robot_positions.csv` from **Exercise 1**). If you haven't completed Exercise 1, you should follow next steps first:</div>\n",
    "\n",
    "- Join the [Neurorobotics platform](http://148.187.97.48/#/esv-private) and select the __*Templates*__ tab.\n",
    "- Select the experiment whose title starts with ***\"Exercise 2: ...\"*** (you can use the filter at the top right-end corner).\n",
    "- Press the __*Clone*__ button; now you own a copy of the experiment which is visible in __*My Experiments*__ tab.\n",
    "\n",
    "\n",
    "- Open the <span style=\"background-color: #f6d351\">Week 1 - Exercise 1 (Jupyter Notebook)</span> in your Collab's space.\n",
    "- Move to the part __\"C. Record the robot positions\"__.\n",
    "- Execute __\"C. Record the robot positions\"__ using __Exersice_<font color=red>2_i</font>__ from the list of NRP experiments you will obtain.\n",
    "\n",
    "**Remark:** Exercise 2's experiment contains the solution of Exercise 1."
   ]
  },
  {
   "cell_type": "markdown",
   "metadata": {},
   "source": [
    "--------------------------------------------\n",
    "\n",
    "--------------------------------------------\n",
    "\n",
    "### Content:\n",
    "- <font size=\"4\">**[A. Installation of utils and download of <span style=\"background-color: #f6d351\">Storage</span> files](#A)**</font></br>\n",
    ">- <font size=\"3\">[A.1. Install SOM utils](#A1)</font></br>\n",
    ">- <font size=\"3\">[A.2. Download csv input file from this Collab's <span style=\"background-color: #f6d351\">Storage</span>](#A2)</font></br>\n",
    "- <font size=\"4\">**[B. Complete the SOM implementation](#B)**</font></br>\n",
    ">- <font size=\"3\">[B.1. SOM description](#B1)</font></br>\n",
    ">- <font size=\"3\">[B.2. The SOM class (TO DO) ](#B2)</font></br>\n",
    "- <font size=\"4\">**[C. SOM simulation](#C)**</font></br>\n",
    ">- <font size=\"3\">[C.1. Perform SOM training ](#C1)</font></br>\n",
    ">- <font size=\"3\">[C.2. Upload your SOM solution into this Collab's <span style=\"background-color: #f6d351\">Storage</span>](#B3)</font></br>\n",
    ">- <font size=\"3\">[C.3. Save the feature map](#C2)</font></br>\n",
    "- <font size=\"4\">**[D. Result evaluation](#D)**</font></br>\n",
    "- <font size=\"4\">**[E. Submission and grading ](#E)**</font></br>"
   ]
  },
  {
   "cell_type": "markdown",
   "metadata": {
    "scrolled": true
   },
   "source": [
    "---------------------------------------------------\n",
    "\n",
    "---------------------------------------------------\n",
    "## A. Installation of SOM utils and download of <span style=\"background-color: #f6d351\">Storage</span> files<a id='A'></a>"
   ]
  },
  {
   "cell_type": "markdown",
   "metadata": {},
   "source": [
    "### A.1. Install SOM utils <a id='A1'></a>\n",
    "Run the cell below to install SOM utils."
   ]
  },
  {
   "cell_type": "code",
   "execution_count": null,
   "metadata": {
    "editable": false,
    "scrolled": true
   },
   "outputs": [],
   "source": [
    "# Install SOM utils\n",
    "from IPython.display import clear_output\n",
    "! pip uninstall epflx_robox_nrp_utils -y\n",
    "! pip install --user --force-reinstall git+https://github.com/HBPNeurorobotics/EPFLx-RoboX-Neurorobotics-utils#egg=epflx_robox_nrp_utils\n",
    "! pip install --upgrade \"hbp-service-client==1.1.1\"\n",
    "clear_output()"
   ]
  },
  {
   "cell_type": "markdown",
   "metadata": {
    "scrolled": true
   },
   "source": [
    "### A.2. Download the csv input file from your Collab <span style=\"background-color: #f6d351\">Storage</span> <a id='A2'></a>\n",
    "Run the two cells below in order to download the input data."
   ]
  },
  {
   "cell_type": "code",
   "execution_count": 3,
   "metadata": {},
   "outputs": [],
   "source": [
    "# Download a selected file from your Collab Storage\n",
    "def download_from_collab_storage(filename, default):\n",
    "    print('Downloading...')\n",
    "    clients = get_hbp_service_client()\n",
    "    collab_path = get_collab_storage_path()\n",
    "    if not filename:\n",
    "        filename = default\n",
    "    if not filename: \n",
    "        raise ValueError('Missing filename argument')\n",
    "    from os import path\n",
    "    try:\n",
    "        clients.storage.download_file(path.join(collab_path, filename), './%(filename)s' % { 'filename': filename})\n",
    "        print('The file \\'%(filename)s\\' has been successfully downloaded. It is located here: ./%(filename)s' % { 'filename': filename})\n",
    "    except Exception:\n",
    "        print('The file \\'%(filename)s\\' couldn\\'t be found in your storage.' % { 'filename': filename})\n",
    "        \n",
    "def display_file_widget(default_filename):\n",
    "    import ipywidgets as widgets\n",
    "    from IPython.display import display\n",
    "    style = {'description_width': 'initial'}\n",
    "    input_file_widget = widgets.Text(\n",
    "        description='Filename', \n",
    "        placeholder='%(default_filename)s (default)' % {'default_filename': default_filename},\n",
    "        style=style,\n",
    "        layout=widgets.Layout(width='50%')\n",
    "    )\n",
    "    display(input_file_widget)\n",
    "    download_button = widgets.Button(description=\"Download\")\n",
    "    display(download_button)\n",
    "    def button_callback(b):\n",
    "        return download_from_collab_storage(filename=input_file_widget.value, default=default_filename)\n",
    "    download_button.on_click(button_callback)"
   ]
  },
  {
   "cell_type": "code",
   "execution_count": 2,
   "metadata": {},
   "outputs": [
    {
     "data": {
      "application/vnd.jupyter.widget-view+json": {
       "model_id": "00b653487be8420bbaaf8209fa6ff237",
       "version_major": 2,
       "version_minor": 0
      },
      "text/plain": [
       "Text(value=u'', description=u'Filename', layout=Layout(width=u'50%'), placeholder=u'robot_positions.csv (defau…"
      ]
     },
     "metadata": {},
     "output_type": "display_data"
    },
    {
     "data": {
      "application/vnd.jupyter.widget-view+json": {
       "model_id": "90944cef6b8a4695b26e06ec9bb81d40",
       "version_major": 2,
       "version_minor": 0
      },
      "text/plain": [
       "Button(description=u'Download', style=ButtonStyle())"
      ]
     },
     "metadata": {},
     "output_type": "display_data"
    }
   ],
   "source": [
    "display_file_widget('robot_positions.csv')"
   ]
  },
  {
   "cell_type": "markdown",
   "metadata": {
    "scrolled": true
   },
   "source": [
    "### A.3 Utility function to save files into your Collab <span style=\"background-color: #f6d351\">Storage</span>"
   ]
  },
  {
   "cell_type": "code",
   "execution_count": null,
   "metadata": {},
   "outputs": [],
   "source": [
    "# Utility function used to save files into your Collab storage\n",
    "\n",
    "\"\"\"\n",
    "Save a file to the Collab storage\n",
    "\n",
    ":param filepath: relative path to the file\n",
    ":param filetype: type of the file, e.g., 'text/csv' or 'text/x-python'\n",
    ":param remove: remove the file of the Jupyter notebook space if True \n",
    "\"\"\"\n",
    "def save_to_collab_storage(filepath, filetype, remove=False):\n",
    "    print('Saving ...')\n",
    "    import os\n",
    "    from os import path\n",
    "    clients = get_hbp_service_client()\n",
    "    collab_path = get_collab_storage_path()\n",
    "    filename = path.basename(filepath)\n",
    "    if os.path.isfile(filename):\n",
    "        # remove the previous version, if it exists\n",
    "        filepath = os.path.join(collab_path, filename)\n",
    "        if clients.storage.exists(filepath): \n",
    "            clients.storage.delete(filepath)\n",
    "        pydata = clients.storage.upload_file(filename, filepath, filetype)\n",
    "        print(\"The file %(filename)s has been successfully saved to %(filepath)s\" % {\"filename\": filename, \"filepath\": filepath})\n",
    "        # remove \n",
    "        if remove:\n",
    "            os.remove(filename)\n",
    "    else:\n",
    "        print(\"Error: the file %(filename)s couldn't be found.\" % {\"filename\": filename})"
   ]
  },
  {
   "cell_type": "markdown",
   "metadata": {
    "editable": false,
    "scrolled": true
   },
   "source": [
    "---------------------------------------------------\n",
    "\n",
    "---------------------------------------------------\n",
    "## B. Complete the SOM implementation <a id='B'></a>"
   ]
  },
  {
   "cell_type": "markdown",
   "metadata": {},
   "source": [
    "### B.1. Description of the SOM class <a id='B1'></a>\n",
    "****\n",
    "\n",
    "</br><div style=\"text-align: justify\">**Your task** is to implement the SOM algorithm and to apply it to robot positions data set obtained in Exercise 1 (`robot_positions.csv`). The template of the SOM class is located in part [B.2. Complete SOM function (TO DO)](#B2). Once you have filled in all the gaps, you will run the algorithm on the aforementioned data set. </div>\n",
    "\n",
    "</br><div style=\"text-align: justify\">The **SOM class template** consists of two parts: **1) `Self-Organizing Map initialization`** and **2) `TO DO`**. The first part allows you to run, to initialize and to visualize the SOM ordering and converging processes via **additional functions** (`SOM_additional`) which are already implemented. You shouldn't change these functions. As for the <font color=red>**\"TO DO\" part**</font>, this is  <font color=red>**your assignement**</font>. </div>\n",
    "\n",
    "</br><div style=\"text-align: justify\"> The script in [B.2. Complete SOM function (TO DO)](#B2) represents the SOM algorithm which is summarized below.</div>"
   ]
  },
  {
   "cell_type": "markdown",
   "metadata": {},
   "source": [
    "****\n",
    "\n",
    "#### SOM algorithm <a id='SOM'></a>\n",
    "<font color=green>**while**</font> (**`N_trials`** are not done):<br>\n",
    "> <font color='#2B8973'>*# TRIAL: __run_trial()__*</font><br>\n",
    "> shuffle the input dataset: **`shuffle_data()`**<br>\n",
    "> <font color=green>**while**</font> (not all points have been considered):<br>\n",
    ">> *<font color='#2B8973'># EPISODE: __run_episode()__</font>*<br>\n",
    ">> - take the next data point according to a prescribed order<br>\n",
    ">> - calculate the **`squared_distance()`** from each node to the selected point<br>\n",
    ">> - determine the winner based on the **`squared_distance()`**: **`get_winner()`**<br>\n",
    ">> - calculate the **`neighborhood_function()`**<br>\n",
    ">> - update the SOM-lattice weights with **`update_lattice()`**<br>\n",
    "\n",
    "****"
   ]
  },
  {
   "cell_type": "markdown",
   "metadata": {},
   "source": [
    "\n",
    "#### SOM formulas (S. Haykin, \"Neural Networks. A Comprehensive Foundation\", 1998, Chapter 9, pp. 465--505)\n",
    "- Squared distance between two neurons or nodes of the SOM lattice (the lattice coordinates are integer coordinates)\n",
    "\\begin{equation} \\tag{9.5}\n",
    "d_{j,i}^2 = \\Vert \\mathbf{r}_i - \\mathbf{r}_j \\Vert^2\n",
    "\\end{equation}\n",
    "\n",
    "- Exponential decay of the size of the winner's topological neighborhood\n",
    "\\begin{equation} \\tag{9.6}\n",
    "\\sigma(n) = \\sigma_0 \\exp\\left(-\\frac{n}{\\tau_1}\\right), \\, n = 0, 1, 2, \\dots \n",
    "\\end{equation}\n",
    "\n",
    "- The Gaussian neighborhood function\n",
    "\\begin{equation} \\tag{9.7}\n",
    "h_{j, i(\\mathbf{x})}(n) = \\exp\\left(-\\frac{d_{j,i}^2}{2\\sigma(n)^2}\\right), \\, n = 0, 1, 2, \\dots \n",
    "\\end{equation}\n",
    "where $i(\\mathbf{x})$ is the index of the winner corresponding to the input point $\\mathbf{x}$.\n",
    "\n",
    "- The update rule of the synaptic weight vectors\n",
    "\\begin{equation} \\tag{9.13}\n",
    "\\mathbf{w}_j(n + 1) = \\mathbf{w}_j(n) + \\eta(n)h_{j,i}(n)(\\mathbf{x} - \\mathbf{w}_j(n)), \\, n = 0, 1, 2, \\dots \n",
    "\\end{equation}\n",
    "where $\\eta(n)$ is the *learning rate* defined in the next equation.\n",
    "\n",
    "- Exponential decay of the learning rate\n",
    "\\begin{equation} \\tag{9.14}\n",
    "\\eta(n) = \\eta_0 \\exp\\left(-\\frac{n}{\\tau_2}\\right), \\, n = 0, 1, 2, \\dots \n",
    "\\end{equation}"
   ]
  },
  {
   "cell_type": "markdown",
   "metadata": {},
   "source": [
    "</br><div style=\"text-align: justify\">Let us have a look at the template script in [B.2. The SOM class (TO DO)](#B2). As you can see, the part \"TO DO\" consists of 4 sections to be completed in their natural order. The simulation will be possible only when all parts have been implemented correctly. We believe that the choosen order helps clarify the implementation process. Now it is time <font color=blue>**TO DO**</font> one part after the other: </div>\n",
    "\n",
    "**Constant parameters: [[1]](#R1)** <br>\n",
    "\n",
    "</br><div style=\"text-align: justify\">We start with constant parameters of the SOM algorithms. The first set of parameters is made of **non-editable parameters** used for the visualization of the training process. <font color=blue>**The second set of parameters is to be initialized by yourself**</font>. \n",
    "\n",
    "**Remark:** Do not change any prescribed function name. Function names are required to be untouched in the submission step. \n",
    "</div> \n",
    "\n",
    "\n",
    "</br><div style=\"text-align: justify\">Here is the parameter list:   </div> \n",
    "<br>\n",
    " - **`self.display`:** the visualization option (`'simulation'` to simulate and show only the final lattice, or `'visualization'` to watch all phases).<br>\n",
    " - **`self.csv_file`:** the name of the input file (`robot_positions.csv`).<br>\n",
    " - **`self.pos`:** the robot positions extracted from the input file.<br>\n",
    " - **`self.lattice`:** the initial SOM lattice, to be randomly initialized.<br>\n",
    " - **`self.trial`:** the index of the current trial (the initial value is 0).<br>\n",
    "<br>\n",
    " - <font color=blue>**self.Nn:**</font> SOM lattice size [_Nn_ x _Nn_].<br>\n",
    " - <font color=blue>**self.eta_0:**</font> the **initial** value of the learning-rate parameter (Formula 9.14 of [1]). <br>\n",
    " - <font color=blue>**self.sigma_0:**</font> the **initial** value of exponential decay parameter (Formula 9.6 of [1]).<br>\n",
    " - <font color=blue>**self.tau_2:**</font> the time constant of the learning-rate parameter function (Formula 9.14 of [1]).<br>\n",
    " - <font color=blue>**self.tau_1:**</font> the time constant of the exponential decay parameter function (Formula 9.6 of [1]).<br>\n",
    " - <font color=blue>**self.N_trials:**</font> the number of trials during learning.<br>\n",
    " - <font color=blue>**self.lattice_limit:**</font> the range for the **initial** weights of the SOM-lattice (`self.lattice`).<br>\n",
    "\n",
    "**SOM training stages: [^](#SOM)**<br>\n",
    " - **`run_trial()`:** run the SOM algorithm on the complete (shuffled) input dataset; <font color=green>**return**</font> __`nothing`__.<br>\n",
    " - **`run_episode()`:** handle one input vector (i.e., one robot pose); <font color=green>**return**</font> __`nothing`__.<br>\n",
    "\n",
    "__Additional functions: [[2]](#R2)__<br>\n",
    " - **`shuffle_data()`:** shuffle the input dataset (i.e., robot positions); <font color=green>**return**</font> __`array`__ of point index sequence.<br>\n",
    " - **`squared_distance()`:** the square of the Euclidean distance between a data point and all neuron weights; <font color=green>**return**</font> __`array`__ the distances to all neurons of the SOM.<br>\n",
    " - **`get_winner()`:** the winning neuron; <font color=green>**return**</font> coordinates **`[x,y]`** of the winning neuron.<br>\n",
    " - **`neighborhood_function()`:** Gaussian neighborhood function (Formula 9.7 of [1]); <font color=green>**return**</font> __`matrix`__ of neuron neighborhood factors according to the current winning neuron.<br>\n",
    " - **`update_lattice()`:** update the SOM-lattice according to the SOM learning rule (Formula 9.13 of [1]); <font color=green>**return**</font> __`nothing`__.<br>\n",
    "\n",
    "__Variable parameters: [[2]](#R2)__<br>\n",
    " - **`eta()`:** the learning-rate parameter (Formula 9.14 of [1]); <font color=green>**return**</font> updated __`eta`__ value.<br>\n",
    " - **`sigma()`:** the exponential decay parameter (Formula 9.6 of [1]); <font color=green>**return**</font> updated __`sigma`__ value.<br>\n",
    "<br>\n",
    "\n",
    "<a id='R1'></a> [1] Once you have implemented all functions, fine tune the __constant parameters__ in order to get a satisfying output map. <br>\n",
    "<a id='R2'></a> [2] For complete SOM definitions and formulas, see **S. Haykin (1998), \"Neural Networks. A Comprehensive Foundation\"** (Chapter 9, pp. 465-505). \n",
    "\n",
    "****\n",
    "\n",
    "The **result** of the main function **`run_som()`** is the self-organized map, also called feature map. This map is saved into the file  `lattice.csv` (visualized as red lattice in the forthcoming cells). You can upload this file into your Collab <span style=\"background-color: #f6d351\">Storage</span> via the command [C.2. Upload SOM training result into Collab's storage](#C2). <br>\n",
    "****"
   ]
  },
  {
   "cell_type": "markdown",
   "metadata": {
    "editable": false,
    "scrolled": true
   },
   "source": [
    "<font color=red>**IMPORTANT:**</font>\n",
    "<br>\n",
    "</br><div style=\"text-align: justify\"> **1)** Be aware that the grading of your SOM class implementation will be performed <font color=red>**only with an SOM lattice of size 8x8**</font>. You can use other sizes of SOM to see how it works. For example, we will ask you to use a bigger lattice for Exercise 3 in the reinforcement learning implementation.</div>\n",
    "</br><div style=\"text-align: justify\">**2)** Keep in mind that the grading process has a timeout. <font color=red>**This timeout is 240 seconds**</font>. If the simulation time exceeds this timeout, the submission will fail.</div>\n",
    "</br><div style=\"text-align: justify\">**3)** Once you are ready to submit, move to [B.3. Upload SOM function into the storage](#B3) and save your solution into Colllab's <span style=\"background-color: #f6d351\">Storage</span>. </div>\n",
    "</br><div style=\"text-align: justify\">**4)** Then **[submit](#Su)** your SOM class implementation for grading.</div>\n",
    "\n",
    "****\n",
    "****"
   ]
  },
  {
   "cell_type": "markdown",
   "metadata": {},
   "source": [
    "### B.2. The SOM class (TO DO) <a id='B2'></a>"
   ]
  },
  {
   "cell_type": "code",
   "execution_count": null,
   "metadata": {
    "scrolled": true
   },
   "outputs": [],
   "source": [
    "#%%writefile SOM_solution.py \n",
    "\n",
    "# SOM class\n",
    "import numpy as np\n",
    "import random\n",
    "import time\n",
    "import math\n",
    "\n",
    "from IPython import display\n",
    "from ipywidgets import IntProgress\n",
    "\n",
    "\n",
    "class SOM():\n",
    "\n",
    "\t#############################################################################################################\n",
    "\t#                                     Self-Organizing Map initialization                                    #\n",
    "\t#############################################################################################################\n",
    "    \n",
    "\t# function to initialize 'class SOM'\n",
    "\tdef __init__(self, display='simulation', csv_file='robot_positions.csv'):\n",
    "\t\tfrom epflx_robox_nrp_utils.SOM.SOM_additional import SOM_additional\n",
    "\t\tself.somad = SOM_additional()\n",
    "\t\tself.display = display\n",
    "\t\tself.csv_file = csv_file\n",
    "\t\tself.init_parameters()\n",
    "        \n",
    "\n",
    "\t# function to run SOM training\n",
    "\tdef run_som(self):       \n",
    "\t\tT,f,self.Nn = self.somad.som_preparation(self.N_trials,self.Nn,self.display)\n",
    "        \n",
    "\t\t\"\"\"     SOM algorithm     \"\"\"\n",
    "\t\tself.lattice = np.random.uniform(self.lattice_limit[0],self.lattice_limit[1],(self.Nn,self.Nn,2))\n",
    "\t\tself.pos = self.somad.load_data(self.csv_file)\n",
    "\t\tself.trial = 0\n",
    "\t\twhile(self.trial < self.N_trials):\n",
    "\t\t\tself.run_trial()\n",
    "\t\t\tself.trial += 1\n",
    "\n",
    "\t\t\tsiminfo = [self.Nn, self.N_trials, self.trial, self.eta(), self.sigma()]\n",
    "\t\t\tself.somad.visualization(siminfo,self.lattice,self.display,f)\n",
    "\t\tself.somad.display_results(T,self.display)\n",
    "        \n",
    "        \n",
    "\t\"\"\"=======================================================================================================\"\"\"\n",
    "\t\"\"\"                                                TO DO                                                  \"\"\"\n",
    "\t\"\"\"=======================================================================================================\"\"\"\n",
    "        \n",
    "\t##########################################\n",
    "\t\"\"\"         Constant parameters        \"\"\"\n",
    "\t##########################################\n",
    "        \n",
    "\tdef init_parameters(self):\n",
    "\t\tself.Nn = 8\n",
    "\t\tself.eta_0 = 0.1\n",
    "\t\tself.sigma_0 = 1.0        \n",
    "\t\tself.tau_2 = 1000.0\n",
    "\t\tself.tau_1 = 100.0\n",
    "\t\tself.N_trials = 100.0\n",
    "\t\tself.lattice_limit = [-3.0, 3.0]\n",
    "\n",
    "\n",
    "\t#########################################\n",
    "\t\"\"\"        SOM training stages        \"\"\"\n",
    "\t#########################################\n",
    "\n",
    "\tdef run_trial(self):\n",
    "\t\tmix = self.shuffle_data();\n",
    "\t\tfor i in range(self.pos.shape[0]):\n",
    "\t\t\tself.run_episode(mix, i)\n",
    "\n",
    "\n",
    "\tdef run_episode(self, mix, i):\n",
    "\t\tpt = self.pos[mix[i]]\n",
    "\t\td = self.squared_distance(pt)\n",
    "\t\t[lx,ly] = self.get_winner(d)\n",
    "\t\th = self.neighborhood_function(lx[0],ly[0])\n",
    "\t\tself.update_lattice(h,pt)\n",
    "\n",
    "\n",
    "\t##########################################\n",
    "\t\"\"\"        Additional functions        \"\"\"\n",
    "\t##########################################\n",
    "\n",
    "\tdef shuffle_data(self):\n",
    "\t\tmix = np.arange(self.pos.shape[0])\n",
    "\t\tnp.random.shuffle(mix)\n",
    "\t\treturn mix\n",
    "\n",
    "\n",
    "\tdef squared_distance(self, pt):\n",
    "\t\treturn np.linalg.norm(self.lattice - pt,axis=2)**2\n",
    "\n",
    "\n",
    "\tdef get_winner(self,d):\n",
    "\t\treturn np.where(d == d.min())\n",
    "\n",
    "\n",
    "\tdef neighborhood_function(self,lx,ly):\n",
    "\t\th = np.zeros((self.Nn,self.Nn))\n",
    "\t\tfor i in range(self.Nn):\n",
    "\t\t\tfor j in range(self.Nn):\n",
    "\t\t\t\tdist = (i-lx)**2 + (j-ly)**2\n",
    "\t\t\t\th[i,j] = np.exp(-dist/(2*self.sigma()**2))\n",
    "\t\treturn h\n",
    "\n",
    "\n",
    "\tdef update_lattice(self,h,pt):\n",
    "\t\tfor i in range(self.lattice.shape[2]):\n",
    "\t\t\tself.lattice[:,:,i] += self.eta()*h*((pt-self.lattice)[:,:,i])\n",
    "    \n",
    "\n",
    "\t#########################################\n",
    "\t\"\"\"        Variable parameters        \"\"\"\n",
    "\t#########################################\n",
    "\n",
    "\tdef eta(self):\n",
    "\t\treturn self.eta_0*np.exp(-self.trial/self.tau_2)\n",
    "\n",
    "\n",
    "\tdef sigma(self):\n",
    "\t\treturn self.sigma_0*np.exp(-self.trial/self.tau_1)"
   ]
  },
  {
   "cell_type": "markdown",
   "metadata": {},
   "source": [
    "----------------------------------\n",
    "\n",
    "----------------------------------\n",
    "## C. SOM simulation <a id='C'></a>"
   ]
  },
  {
   "cell_type": "markdown",
   "metadata": {},
   "source": [
    "### C.1. Perform SOM training <a id='C1'></a>\n",
    "\n",
    "Once you have implemented [B.2 The SOM class (TO DO)](#B2), you can perform SOM training. You can run and visualize the training process with the following python commands:\n",
    "\n",
    "```python\n",
    "som = SOM(mode_name) # instantiate your SOM class (replace mode_name for 'simulation' or 'visualization')\n",
    "som.run_som() # run simulation\n",
    "```\n",
    "`'simulation'` mode doesn't provide with any visualization;<br>\n",
    "`'visualization'` mode provides with visualization of SOM deployment state after every trial."
   ]
  },
  {
   "cell_type": "code",
   "execution_count": null,
   "metadata": {},
   "outputs": [],
   "source": [
    "som = SOM('simulation')\n",
    "som.run_som()"
   ]
  },
  {
   "cell_type": "markdown",
   "metadata": {},
   "source": [
    "****\n",
    "### C.2. Upload your SOM solution into your Collab <span style=\"background-color: #f6d351\">Storage</span><a id='B3'></a>\n",
    "To save your solution file, follow these steps: </br>\n",
    "\n",
    "- Move to [B.2. SOM function](#B2) and uncomment the first line of the script, that is remove the \"#\" placed before `%%writefile SOM_solution.py`;\n",
    "- Run the cell [B.2. SOM function](#B2). You should see `Writing SOM_solution.py` just above; \n",
    "- Run the cell below to save your solution file into your Collab storage."
   ]
  },
  {
   "cell_type": "code",
   "execution_count": null,
   "metadata": {},
   "outputs": [],
   "source": [
    "save_to_collab_storage(filepath='SOM_solution.py', filetype='text/x-python', remove=True)"
   ]
  },
  {
   "cell_type": "markdown",
   "metadata": {},
   "source": [
    "### C.2. Save the feature map<a id='C2'></a>\n",
    "The output of the SOM training is the SOM lattice, also called feature map. This lattice is represented with the red color on the visualization figure. \n",
    "The lattice data was saved into the file `lattice.csv` which is now contained in this Jupyter notebook space. This commands upload the `lattice.csv` into your Collab <span style=\"background-color: #f6d351\">Storage</span>. \n",
    "\n",
    "Run the cell below and then check in your Collab <span style=\"background-color: #f6d351\">Storage</span> if the `lattice.csv` has been saved."
   ]
  },
  {
   "cell_type": "code",
   "execution_count": null,
   "metadata": {},
   "outputs": [],
   "source": [
    "save_to_collab_storage(filepath='lattice.csv', filetype='text/csv', remove=False)"
   ]
  },
  {
   "cell_type": "markdown",
   "metadata": {},
   "source": [
    "---------------------------------------------------------------------\n",
    "\n",
    "---------------------------------------------------------------------\n",
    "## D. SOM evaluation <a id='D'></a>"
   ]
  },
  {
   "cell_type": "markdown",
   "metadata": {},
   "source": [
    "Run the next cell to get a score for your implementation. This score is an average distance between data points (blue dots) and the centers of clusters (red dots) represented as a lattice. The goal of SOM training is to minimize this distance as much as possible."
   ]
  },
  {
   "cell_type": "code",
   "execution_count": null,
   "metadata": {},
   "outputs": [],
   "source": [
    "# Evaluation of the SOM training\n",
    "from epflx_robox_nrp_utils.SOM.SOM_evaluation import SOM_evaluation\n",
    "somev = SOM_evaluation()\n",
    "var, N = somev.run_evaluation()\n",
    "print \"Your score is \", var, \"with SOM size (\", N, \"x\", N,\").\""
   ]
  },
  {
   "cell_type": "markdown",
   "metadata": {},
   "source": [
    "## E. Submission and grading\n",
    "\n",
    "Run the next cell to submit your SOM implementation. Each submission is automatically tested and evaluated. Only the last submission will be taken into account for your grade. <font color=red>**Keep in mind that the grading process has a timeout of 240 seconds.**</font>"
   ]
  },
  {
   "cell_type": "code",
   "execution_count": null,
   "metadata": {},
   "outputs": [],
   "source": [
    "clients = get_hbp_service_client()\n",
    "collab_path = get_collab_storage_path()\n",
    "print(\"Retrieving your HBP OIDC token ...\")\n",
    "token = str(oauth.get_token())\n",
    "print(\"token retrieved!\")\n",
    "submission_info = {\n",
    "    'subheader': 'Exercise 2',\n",
    "    'filepath': 'SOM_solution.py',\n",
    "    'token': token,\n",
    "    'collab_path': collab_path,\n",
    "    'clients_storage': clients.storage\n",
    "}\n",
    "from epflx_robox_nrp_utils.submission_manager.submission_widget import display_submission_widget\n",
    "display_submission_widget(submission_info)"
   ]
  }
 ],
 "metadata": {
  "celltoolbar": "Edit Metadata",
  "kernelspec": {
   "display_name": "Python 2",
   "language": "python",
   "name": "python2"
  },
  "language_info": {
   "codemirror_mode": {
    "name": "ipython",
    "version": 2
   },
   "file_extension": ".py",
   "mimetype": "text/x-python",
   "name": "python",
   "nbconvert_exporter": "python",
   "pygments_lexer": "ipython2",
   "version": "2.7.12"
  }
 },
 "nbformat": 4,
 "nbformat_minor": 2
}
