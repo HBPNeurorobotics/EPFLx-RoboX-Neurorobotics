{
 "cells": [
  {
   "cell_type": "markdown",
   "metadata": {},
   "source": [
    "# Exercise 2\n",
    "\n",
    "# Transform the recorded robot positions into a Self-Organizing Map (SOM)"
   ]
  },
  {
   "cell_type": "markdown",
   "metadata": {},
   "source": [
    "--------------------------------------\n",
    "\n",
    "--------------------------------------\n",
    "### Initialization: Get data from solved Excercise 1\n",
    "The goal of this exercise is to generate a Self-Organizing Map based on the recorded robot positions of Exercise 1.\n",
    "If you didn't complete Exercise 1, clone and launch the experiment *\"Exercise 2: Transform robot positions ... (SOM)\"* of the [Neurorobotics platform](http://148.187.97.48/#/esv-private) to generate the file __*robot_positions.csv*__. Then follow the instructions below.\n",
    "\n",
    "__Instructions:__\n",
    "- Open __Exercise 1__ in your Collab's space.\n",
    "- Move to the part __*C. \"Record the robot positions\"*__.\n",
    "- Execute the commands of Section C using __*Exersice_2_i*__ from the list of NRP experiment when launching a simulation.\n"
   ]
  },
  {
   "cell_type": "markdown",
   "metadata": {},
   "source": [
    "--------------------------------------------\n",
    "\n",
    "--------------------------------------------\n",
    "\n",
    "### Content:\n",
    "- <font size=\"4\">**[A. Installation of utils and download of storage files](#A)**</font></br>\n",
    ">- <font size=\"3\">[A.1. Install SOM utils](#A1)</font></br>\n",
    ">- <font size=\"3\">[A.2. Download csv input file from this Collab's storage](#A2)</font></br>\n",
    "- <font size=\"4\">**[B. Complete the SOM implementation](#B)**</font></br>\n",
    ">- <font size=\"3\">[B.1. SOM description](#B1)</font></br>\n",
    ">- <font size=\"3\">[B.2. SOM function (TO DO) ](#B2)</font></br>\n",
    ">- <font size=\"3\">[B.3. Upload SOM function into the storage](#B3)</font></br>\n",
    "- <font size=\"4\">**[C. SOM simulation](#C)**</font></br>\n",
    ">- <font size=\"3\">[C.1. Perform SOM training (editable) ](#C1)</font></br>\n",
    ">- <font size=\"3\">[C.2. Save SOM training result](#C2)</font></br>\n",
    "- <font size=\"4\">**[D. Result evaluation](#D)**</font></br>\n",
    "- <font size=\"4\">**[E. Submission and grading ](#E)**</font></br>"
   ]
  },
  {
   "cell_type": "markdown",
   "metadata": {},
   "source": [
    "---------------------------------------------------\n",
    "\n",
    "---------------------------------------------------\n",
    "## A. Installation of SOM utils and download of storage files<a id='A'></a>"
   ]
  },
  {
   "cell_type": "markdown",
   "metadata": {},
   "source": [
    "### A.1. Install SOM utils <a id='A1'></a>\n",
    "Run the cell below to install SOM utils."
   ]
  },
  {
   "cell_type": "code",
   "execution_count": null,
   "metadata": {
    "editable": false,
    "scrolled": true
   },
   "outputs": [],
   "source": [
    "# Install SOM utils\n",
    "from IPython.display import clear_output\n",
    "! pip uninstall epflx_robox_nrp_utils -y\n",
    "! pip install --user --force-reinstall git+https://github.com/HBPNeurorobotics/EPFLx-RoboX-Neurorobotics-utils#egg=epflx_robox_nrp_utils\n",
    "! pip install --upgrade \"hbp-service-client==1.1.1\"\n",
    "clear_output()"
   ]
  },
  {
   "cell_type": "markdown",
   "metadata": {},
   "source": [
    "### A.2. Download the csv input file from Collab storage <a id='A2'></a>\n",
    "Run the cell below to download the input data."
   ]
  },
  {
   "cell_type": "code",
   "execution_count": null,
   "metadata": {
    "scrolled": true
   },
   "outputs": [],
   "source": [
    "# Download the default robot_positions.csv file from this Collab's Storage\n",
    "clients = get_hbp_service_client()\n",
    "collab_path = get_collab_storage_path()\n",
    "filename = raw_input(\"Enter the name of the data file you want to use for SOM simulation:\")\n",
    "if not filename: \n",
    "    filename = 'robot_positions.csv'\n",
    "clear_output()\n",
    "from os import path\n",
    "clients.storage.download_file(path.join(collab_path, filename), './robot_positions.csv')"
   ]
  },
  {
   "cell_type": "markdown",
   "metadata": {},
   "source": [
    "## Utility function to save files into Collab storage"
   ]
  },
  {
   "cell_type": "code",
   "execution_count": null,
   "metadata": {},
   "outputs": [],
   "source": [
    "# Utility function used to save files into your Collab storage\n",
    "\n",
    "\"\"\"\n",
    "Save a file to the Collab storage\n",
    "\n",
    ":param filepath: relative path to the file\n",
    ":param filetype: type of the file, e.g., 'text/csv' or 'text/x-python'\n",
    ":param remove: remove the file of the Jupyter notebook space if True \n",
    "\"\"\"\n",
    "def save_to_collab_storage(filename, filetype, remove=False):\n",
    "    from os import path\n",
    "    clients = get_hbp_service_client()\n",
    "    collab_path = get_collab_storage_path()\n",
    "    filename = path.basename(filepath)\n",
    "    # if you create new file\n",
    "    if os.path.isfile(filename):\n",
    "        # if old version of the file exists\n",
    "        filepath = os.path.join(collab_name, filename)\n",
    "        if clients.storage.exists(filepath): \n",
    "            clients.storage.delete(filepath)\n",
    "        pydata = clients.storage.upload_file(filename, filepath, filetype)\n",
    "        # remove \n",
    "        if remove:\n",
    "            os.remove(filename)"
   ]
  },
  {
   "cell_type": "markdown",
   "metadata": {},
   "source": [
    "---------------------------------------------------\n",
    "\n",
    "---------------------------------------------------\n",
    "## B. Complete the SOM implementation <a id='B'></a>"
   ]
  },
  {
   "cell_type": "markdown",
   "metadata": {},
   "source": [
    "### B.1. SOM description <a id='B1'></a>\n",
    "****\n",
    "\n",
    "**Exercise goal:**<br>\n",
    "Your task is to implement a Self-Organizing Map (SOM) that represents the robot environment. Mapping the environment to a 2D space makes visualization easy and hence helps you control the performance of the algorithm by immediate eye inspection.\n",
    "\n",
    "**Input:** Coordinates of the robot positions *given by Exercise 1* (*'robot_positions.csv'*).<br>\n",
    "\n",
    "**Output:** Self-Organizing Map (*'SOM_data_lattice.csv'*).<br>\n",
    "****\n",
    "\n",
    "#### The SOM algorithm\n",
    "*<font color=green>**while**</font> (`N_trials` are not done):*<br>\n",
    "> <font color=blue>*# TRIAL: `run_trial()`*</font><br>\n",
    "> *mix your dataset: `datamix()` - an order*<br>\n",
    "> *<font color=green>**while**</font> (not all points are processed):*<br>\n",
    ">> *<font color=blue># EPISODE: `run_episode()`*</font><br>\n",
    ">> *take next point according to an order*<br>\n",
    ">> *calculate `distance()`*<br>\n",
    ">> *define the `winner()`*<br>\n",
    ">> *calculate `neighborhood_factor()`*<br>\n",
    ">> *update SOM-lattice by `update_lattice()`*<br>\n",
    "\n",
    "****\n",
    "\n",
    "**Additional functions:**<br>\n",
    " - **`datamix()`:** generate new order of robot positions; <font color=green>**return**</font> *__array__ of new order*.<br>\n",
    " - **`distance()`:** the Euclidean distance between a data point and a neuron; <font color=green>**return**</font> *__array__ of distance to all neurons of SOM*.<br>\n",
    " - **`winner()`:** the winning neuron; <font color=green>**return**</font> *coordinates **[x,y]** of the winning neuron*.<br>\n",
    " - **`neighborhood_factor()`:** the Gaussian neighborhood function; <font color=green>**return**</font> *__matrix__ of neighborhood factors for each neuron to the current winning neuron*.<br>\n",
    " - **`update_lattice()`:** update the SOM-lattice according to SOM learning rule; <font color=green>**return**</font> *__nothing__*.<br>\n",
    "\n",
    "**Variable parameters:**<br>\n",
    " - **`eta()`:** the leaning-rate parameter; <font color=green>**return**</font> *updated __eta__ value*.<br>\n",
    " - **`sigma()`:** the exponential decay parameter; <font color=green>**return**</font> *updated __sigma__ value*.<br>\n",
    "****\n",
    "\n",
    "**Global variables initialization (<font color=blue>default</font>, <font color=red>yours</font>):**<br>\n",
    " - <font color=blue>**self.video:**</font> the visualization trigger (False - no, True - yes).<br>\n",
    " - <font color=blue>**self.csv_file:**</font> the input file (*'NRP_data_robot_positions.csv'*).<br>\n",
    " - <font color=blue>**self.pos:**</font> the data from input file (*'NRP_data_robot_positions.csv'*).<br>\n",
    " - <font color=blue>**self.lattice:**</font> the initial and randomly generated SOM.<br>\n",
    " - <font color=blue>**self.trial:**</font> the index of the current trial (initial value is 0).<br>\n",
    "<br>\n",
    " - <font color=red>**self.Nn:**</font> SOM size [_Nn_ x _Nn_].<br>\n",
    " - <font color=red>**self.eta_0:**</font> the initial value of the leaning-rate parameter. <br>\n",
    " - <font color=red>**self.sigma_0:**</font> the initial value of the exponential decay parameter<br>\n",
    " - <font color=red>**self.tau:**</font> the time constant of the SOM algorithm.<br>\n",
    " - <font color=red>**self.N_trials:**</font> the number of trials during learning.<br>\n",
    " - <font color=red>**self.lattice_limit:**</font> the range of initial values to initialize the SOM-lattice.<br>\n",
    "****\n",
    "\n",
    "<font color=red>**TO DO:**</font><br>\n",
    "**1)** Initialize the <font color=red>constant parameters (yours)</font>.<br>\n",
    "**2)** Implement the <font color=red>SOM training stages</font>: trial and episode.<br>\n",
    "**3)** Implement the <font color=red>additional functions</font>.<br>\n",
    "**4)** Implement the <font color=red>variable parameters</font>.<br>\n",
    "****\n",
    "\n",
    "<font color=red>**IMPORTANT:**</font><br>\n",
    "**1)** The first line of the SOM implementation template: `%%writefile SOM_solution.py`.<br> Please, replace _'Surname'_ and _'Name'_ with your own Surname and Name. Don't uncomment this line until you are ready to submit.<br>\n",
    "**2)** Please, pay attention to the fact that the grading of your implementation will be executed <font color=red>**only with SOM 12x12**</font>. Nevertheless, you can use other sizes of SOM to see how it works. For example, we will ask you to use a bigger lattice for Exercise 3 (reinforcement learning implementation).<br>\n",
    "**3)** Please, keep in mind that the grading process has a time limit. <font color=red>**This time limit is 90 seconds**</font>.<br>\n",
    "**4)** Once you are ready to submit, please, uncomment the first line of your script (`%%writefile SOM_solution.py`) and run the cell containing the script. This way your script will be saved into this Jupyter notebook space as a file with the given name. **Then, submit this file.**\n",
    "\n",
    "****\n",
    "****"
   ]
  },
  {
   "cell_type": "markdown",
   "metadata": {},
   "source": [
    "### B.2. SOM function (TO DO) <a id='B2'></a>"
   ]
  },
  {
   "cell_type": "code",
   "execution_count": null,
   "metadata": {
    "scrolled": true
   },
   "outputs": [],
   "source": [
    "#%%writefile SOM_solution.py \n",
    "\n",
    "# class SOM (SOM_solution)\n",
    "import numpy as np\n",
    "import random\n",
    "import time\n",
    "\n",
    "from IPython import display\n",
    "\n",
    "\n",
    "class SOM():\n",
    "\n",
    "\t#############################################################################################################\n",
    "\t#        Self-Organizing Map: map of the environment based on the positions visited by the robot        #\n",
    "\t#############################################################################################################\n",
    "    \n",
    "\t# function to initialize class SOM\n",
    "\tdef __init__(self, video=0, csv_file='robot_positions.csv', Nn=None):\n",
    "\t\tfrom epflx_robox_nrp_utils.SOM.SOM_additional import SOM_additional\n",
    "\t\tself.somad = SOM_additional()\n",
    "\t\tself.init_parameters()\n",
    "\t\tif(Nn!=None): self.Nn = Nn\n",
    "\t\tself.video = video\n",
    "\t\tself.csv_file = csv_file\n",
    "\t\tself.lattice = np.random.uniform(self.lattice_limit[0],self.lattice_limit[1],(self.Nn,self.Nn,2))\n",
    "        \n",
    "\t# function to run SOM training\n",
    "\tdef run_som(self):       \n",
    "\t\tT = time.time()\n",
    "\t\tself.pos = self.somad.load_data(self.csv_file)\n",
    "\t\tself.trial = 0\n",
    "\t\twhile(self.trial < self.N_trials):\n",
    "\t\t\tself.run_trial()\n",
    "\t\t\tself.trial += 1\n",
    "\t\t\tself.somad.save_lattice(self.lattice,self.Nn)\n",
    "\t\t\tif(self.video): self.somad.visualization(self.lattice,self.Nn,self.eta(),self.sigma(),self.trial)\n",
    "\t\tdisplay.clear_output(wait=True)\n",
    "\t\tprint 'Done. Simulation time is ', time.time()-T, '(s).'\n",
    "        \n",
    "        \n",
    "\t\"\"\"=======================================================================================================\"\"\"\n",
    "\t\"\"\"                                                TO DO                                                  \"\"\"\n",
    "\t\"\"\"=======================================================================================================\"\"\"\n",
    "        \n",
    "\t##########################################\n",
    "\t\"\"\"         Constant parameters        \"\"\"\n",
    "\t##########################################\n",
    "        \n",
    "\tdef init_parameters(self):\n",
    "\t\tself.Nn = 12\n",
    "\t\tself.eta_0 = 1.0\n",
    "\t\tself.sigma_0 = 1.0        \n",
    "\t\tself.tau_eta = 100.0\n",
    "\t\tself.tau_sigma = 100.0\n",
    "\t\tself.N_trials = 100.0\n",
    "\t\tself.lattice_limit = [0.0, 0.0]\n",
    "\n",
    "\n",
    "\t#########################################\n",
    "\t\"\"\"        SOM training stages        \"\"\"\n",
    "\t#########################################\n",
    "\n",
    "\tdef run_trial(self):\n",
    "\t\tmix = self.datamix();\n",
    "\t\tfor i in range(self.pos.shape[0]):\n",
    "\t\t\tself.run_episode(mix, i)\n",
    "\n",
    "\n",
    "\tdef run_episode(self, mix, i):\n",
    "\t\tpt = self.pos[mix[i]]\n",
    "\t\td = self.distance(pt)\n",
    "\t\t[lx,ly] = self.winner(d)\n",
    "\t\th = self.neighborhood_factor(lx[0],ly[0])\n",
    "\t\tself.update_lattice(h,pt)\n",
    "\n",
    "\n",
    "\t##########################################\n",
    "\t\"\"\"        Additional functions        \"\"\"\n",
    "\t##########################################\n",
    "\n",
    "\tdef datamix(self):\n",
    "\t\tmix = np.arange(self.pos.shape[0])\n",
    "\t\tnp.random.shuffle(mix)\n",
    "\t\treturn mix\n",
    "\n",
    "\n",
    "\tdef distance(self, pt):\n",
    "\t\treturn np.linalg.norm(self.lattice - pt,axis=2)**2\n",
    "\n",
    "\n",
    "\tdef winner(self,d):\n",
    "\t\treturn np.where(d == d.min())\n",
    "\n",
    "\n",
    "\tdef neighborhood_factor(self,lx,ly):\n",
    "\t\th = np.zeros((self.Nn,self.Nn))\n",
    "\t\tfor i in range(self.Nn):\n",
    "\t\t\tfor j in range(self.Nn):\n",
    "\t\t\t\tdist = (i-lx)**2 + (j-ly)**2\n",
    "\t\t\t\th[i,j] = np.exp(-dist/(2*self.sigma()**2))\n",
    "\t\treturn h\n",
    "\n",
    "\n",
    "\tdef update_lattice(self,h,pt):\n",
    "\t\tfor i in range(self.lattice.shape[2]):\n",
    "\t\t\tself.lattice[:,:,i] += self.eta()*h*((pt-self.lattice)[:,:,i])\n",
    "    \n",
    "\n",
    "\t#########################################\n",
    "\t\"\"\"        Variable parameters        \"\"\"\n",
    "\t#########################################\n",
    "\n",
    "\tdef eta(self):\n",
    "\t\treturn self.eta_0*(1-self.trial/self.tau_eta)\n",
    "\n",
    "\n",
    "\tdef sigma(self):\n",
    "\t\treturn self.sigma_0*(1-self.trial/self.tau_sigma)"
   ]
  },
  {
   "cell_type": "markdown",
   "metadata": {},
   "source": [
    "****\n",
    "### B.3. Upload the SOM function into your Collab storage<a id='B3'></a>\n",
    "Once you are done and ready to submit your solution, please, follow next steps: </br>\n",
    "\n",
    "- Move to [B.2. SOM function](#B2) and uncomment the first line  `%%writefile SOM_solution.py` ;\n",
    "- Run the cell [B.2. SOM function](#B2). You should see  `Writing SOM_solution.py` just above; \n",
    "- Run the cell [B.3. Upload SOM function into the storage](#B3) to save this file in your Collab storage (check your Collab storage to see if the file is there)."
   ]
  },
  {
   "cell_type": "markdown",
   "metadata": {},
   "source": [
    "Run the cell below to save your result into your Collab storage."
   ]
  },
  {
   "cell_type": "code",
   "execution_count": null,
   "metadata": {},
   "outputs": [],
   "source": [
    "save_to_collab_storage(filepath='SOM_solution.py', filetype='text/x-python', remove=True)"
   ]
  },
  {
   "cell_type": "markdown",
   "metadata": {},
   "source": [
    "----------------------------------\n",
    "\n",
    "----------------------------------\n",
    "## C. SOM simulation <a id='C'></a>"
   ]
  },
  {
   "cell_type": "markdown",
   "metadata": {},
   "source": [
    "### C.1. Perform SOM training (editable) <a id='C1'></a>\n",
    "This cell runs the simulation of SOM training that uses [your script](#B2). You can visualize this process.\n",
    "- *som = SOM(visualization)* # upload your SOM function [**visualization**: No - **0**, Yes - **1**];</br> \n",
    "- *som.run_som()* # run simulation."
   ]
  },
  {
   "cell_type": "code",
   "execution_count": null,
   "metadata": {},
   "outputs": [],
   "source": [
    "som = SOM(1)\n",
    "som.run_som()"
   ]
  },
  {
   "cell_type": "markdown",
   "metadata": {},
   "source": [
    "### C.2. Save SOM training result <a id='C2'></a>\n",
    "The output of the SOM training is the SOM lattice. This lattice is represented with the red color on the visualization figure. \n",
    "The lattice data was saved into the file __*'SOM_data_lattice.csv'*__ which is now contained in this Jupyter notebook space. This commands upload the __*'SOM_data_lattice.csv'*__ into your Collab storage. \n",
    "\n",
    "Run the cell below and then check in your Collab storage if the __*'SOM_data_lattice.csv'*__ has been saved."
   ]
  },
  {
   "cell_type": "code",
   "execution_count": null,
   "metadata": {},
   "outputs": [],
   "source": [
    "save_to_collab_storage(filepath='SOM_data_lattice.csv', filetype='text/csv', remove=False)"
   ]
  },
  {
   "cell_type": "markdown",
   "metadata": {},
   "source": [
    "---------------------------------------------------------------------\n",
    "\n",
    "---------------------------------------------------------------------\n",
    "## D. SOM evaluation <a id='D'></a>"
   ]
  },
  {
   "cell_type": "markdown",
   "metadata": {},
   "source": [
    "Run the next cell to get a score for your implementation. This score is an average distance between data points (blue dots) and the centers of clusters (red dots) represented as a lattice. The goal of SOM training is to minimize this distance as much as possible."
   ]
  },
  {
   "cell_type": "code",
   "execution_count": null,
   "metadata": {},
   "outputs": [],
   "source": [
    "# Evaluation of the SOM training\n",
    "from epflx_robox_nrp_utils.SOM.SOM_evaluation import SOM_evaluation\n",
    "somev = SOM_evaluation()\n",
    "var, N = somev.run_evaluation()\n",
    "print \"Your score is \", var, \"with SOM size (\", N, \"x\", N,\").\""
   ]
  },
  {
   "cell_type": "markdown",
   "metadata": {},
   "source": [
    "## E. Submission and grading\n",
    "Run the next cell to submit your SOM implementation. Each submission is automatically tested and evaluated. Only the last submission will be taken into account for your grade."
   ]
  },
  {
   "cell_type": "code",
   "execution_count": null,
   "metadata": {},
   "outputs": [],
   "source": [
    "clients = get_hbp_service_client()\n",
    "collab_path = get_collab_storage_path()\n",
    "print(\"Retrieving your HBP OIDC token ...\")\n",
    "token = str(oauth.get_token())\n",
    "print(\"token retrieved!\")\n",
    "submission_info = {\n",
    "    'subheader': 'Exercise 2',\n",
    "    'filepath': 'SOM_function.py',\n",
    "    'token': token,\n",
    "    'collab_path': collab_path,\n",
    "    'clients_storage': clients.storage\n",
    "}\n",
    "from epflx_robox_nrp_utils.submission_manager.submission_widget import display_submission_widget\n",
    "display_submission_widget(submission_info)"
   ]
  }
 ],
 "metadata": {
  "kernelspec": {
   "display_name": "Python 2",
   "language": "python",
   "name": "python2"
  },
  "language_info": {
   "codemirror_mode": {
    "name": "ipython",
    "version": 2
   },
   "file_extension": ".py",
   "mimetype": "text/x-python",
   "name": "python",
   "nbconvert_exporter": "python",
   "pygments_lexer": "ipython2",
   "version": "2.7.12"
  }
 },
 "nbformat": 4,
 "nbformat_minor": 2
}
